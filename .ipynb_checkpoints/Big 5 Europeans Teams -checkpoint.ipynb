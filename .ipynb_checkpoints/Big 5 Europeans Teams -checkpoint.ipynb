{
 "cells": [
  {
   "cell_type": "markdown",
   "metadata": {},
   "source": [
    "# Introduction "
   ]
  },
  {
   "cell_type": "markdown",
   "metadata": {},
   "source": [
    "This Dataset contains the data of top 5 European football leagues from 2010/11 season up to 2020/2021.\n",
    "\n",
    "The columns contains stats of teams season by season and can be used to analyze performance of teams over the years.It consists of name of the team/club,games played,number of wins,number of losses,number of draws,points accumulated and other relevant football stats."
   ]
  },
  {
   "cell_type": "markdown",
   "metadata": {},
   "source": [
    "# Business Understanding "
   ]
  },
  {
   "cell_type": "markdown",
   "metadata": {},
   "source": [
    "this dataset contains data about leagues teams to discover big 5 europeans teams from columns such as \"Competition\" : The league that team play in , \"Season\" , \"rank\" : the rank in the leaue , \"squad\" : name of team , \"Games\" : no.games , \"wins\" , \"Draws\" , \"Losses\" , \"goals for\" , \"goals Against\"."
   ]
  },
  {
   "cell_type": "markdown",
   "metadata": {},
   "source": [
    "# Questions "
   ]
  },
  {
   "cell_type": "markdown",
   "metadata": {},
   "source": [
    "- which teams win the league that plays in over the seasons?\n",
    "- teams that achieve the most wins over the seasons?\n",
    "- teams that achieve the less losses over the seasons?\n",
    "- the best attack over the seasons ?\n",
    "- the best defense over the seasons?\n",
    "- which team that achieve the widest point_diff?\n",
    "- which teams that have best goalkeepers?\n",
    "- teams that collect the most points over the seasons?\n",
    "- teams which use less subs ?\n",
    "- teams which have the best rate for point per match ?"
   ]
  },
  {
   "cell_type": "markdown",
   "metadata": {},
   "source": [
    "# Imports"
   ]
  },
  {
   "cell_type": "code",
   "execution_count": 1,
   "metadata": {},
   "outputs": [],
   "source": [
    "import numpy as np\n",
    "import pandas as pd\n",
    "import matplotlib.pyplot as plt\n",
    "import seaborn as sns "
   ]
  },
  {
   "cell_type": "markdown",
   "metadata": {},
   "source": [
    "# Data Wrangling / Data Understanding "
   ]
  },
  {
   "cell_type": "markdown",
   "metadata": {},
   "source": [
    "# Load Data "
   ]
  },
  {
   "cell_type": "code",
   "execution_count": 7,
   "metadata": {},
   "outputs": [
    {
     "data": {
      "text/html": [
       "<div>\n",
       "<style scoped>\n",
       "    .dataframe tbody tr th:only-of-type {\n",
       "        vertical-align: middle;\n",
       "    }\n",
       "\n",
       "    .dataframe tbody tr th {\n",
       "        vertical-align: top;\n",
       "    }\n",
       "\n",
       "    .dataframe thead th {\n",
       "        text-align: right;\n",
       "    }\n",
       "</style>\n",
       "<table border=\"1\" class=\"dataframe\">\n",
       "  <thead>\n",
       "    <tr style=\"text-align: right;\">\n",
       "      <th></th>\n",
       "      <th>competition</th>\n",
       "      <th>season</th>\n",
       "      <th>rank</th>\n",
       "      <th>squad</th>\n",
       "      <th>games</th>\n",
       "      <th>wins</th>\n",
       "      <th>draws</th>\n",
       "      <th>losses</th>\n",
       "      <th>goals_for</th>\n",
       "      <th>goals_against</th>\n",
       "      <th>goal_diff</th>\n",
       "      <th>points</th>\n",
       "      <th>notes</th>\n",
       "      <th>players_used</th>\n",
       "      <th>assists</th>\n",
       "      <th>pens_made</th>\n",
       "      <th>pens_att</th>\n",
       "      <th>cards_yellow</th>\n",
       "      <th>cards_red</th>\n",
       "      <th>shots_on_target_against</th>\n",
       "      <th>saves</th>\n",
       "      <th>clean_sheets</th>\n",
       "      <th>shots_on_target</th>\n",
       "      <th>games_starts</th>\n",
       "      <th>games_complete</th>\n",
       "      <th>games_subs</th>\n",
       "      <th>unused_subs</th>\n",
       "      <th>points_per_match</th>\n",
       "    </tr>\n",
       "  </thead>\n",
       "  <tbody>\n",
       "    <tr>\n",
       "      <th>0</th>\n",
       "      <td>Premier League</td>\n",
       "      <td>2010-2011</td>\n",
       "      <td>1</td>\n",
       "      <td>Manchester Utd</td>\n",
       "      <td>38</td>\n",
       "      <td>23</td>\n",
       "      <td>11</td>\n",
       "      <td>4</td>\n",
       "      <td>78</td>\n",
       "      <td>37</td>\n",
       "      <td>41</td>\n",
       "      <td>80</td>\n",
       "      <td>→ UEFA Champions League via league finish</td>\n",
       "      <td>29</td>\n",
       "      <td>59</td>\n",
       "      <td>3</td>\n",
       "      <td>5</td>\n",
       "      <td>56.0</td>\n",
       "      <td>3.0</td>\n",
       "      <td>139</td>\n",
       "      <td>102</td>\n",
       "      <td>15</td>\n",
       "      <td>218</td>\n",
       "      <td>418</td>\n",
       "      <td>NaN</td>\n",
       "      <td>99</td>\n",
       "      <td>NaN</td>\n",
       "      <td>2.11</td>\n",
       "    </tr>\n",
       "    <tr>\n",
       "      <th>1</th>\n",
       "      <td>Premier League</td>\n",
       "      <td>2010-2011</td>\n",
       "      <td>2</td>\n",
       "      <td>Chelsea</td>\n",
       "      <td>38</td>\n",
       "      <td>21</td>\n",
       "      <td>8</td>\n",
       "      <td>9</td>\n",
       "      <td>69</td>\n",
       "      <td>33</td>\n",
       "      <td>36</td>\n",
       "      <td>71</td>\n",
       "      <td>→ UEFA Champions League via league finish</td>\n",
       "      <td>24</td>\n",
       "      <td>39</td>\n",
       "      <td>6</td>\n",
       "      <td>8</td>\n",
       "      <td>59.0</td>\n",
       "      <td>1.0</td>\n",
       "      <td>148</td>\n",
       "      <td>115</td>\n",
       "      <td>15</td>\n",
       "      <td>241</td>\n",
       "      <td>418</td>\n",
       "      <td>NaN</td>\n",
       "      <td>107</td>\n",
       "      <td>NaN</td>\n",
       "      <td>1.87</td>\n",
       "    </tr>\n",
       "    <tr>\n",
       "      <th>2</th>\n",
       "      <td>Premier League</td>\n",
       "      <td>2010-2011</td>\n",
       "      <td>3</td>\n",
       "      <td>Manchester City</td>\n",
       "      <td>38</td>\n",
       "      <td>21</td>\n",
       "      <td>8</td>\n",
       "      <td>9</td>\n",
       "      <td>60</td>\n",
       "      <td>33</td>\n",
       "      <td>27</td>\n",
       "      <td>71</td>\n",
       "      <td>→ UEFA Champions League via league finish</td>\n",
       "      <td>27</td>\n",
       "      <td>35</td>\n",
       "      <td>8</td>\n",
       "      <td>9</td>\n",
       "      <td>71.0</td>\n",
       "      <td>5.0</td>\n",
       "      <td>153</td>\n",
       "      <td>120</td>\n",
       "      <td>18</td>\n",
       "      <td>182</td>\n",
       "      <td>418</td>\n",
       "      <td>NaN</td>\n",
       "      <td>102</td>\n",
       "      <td>NaN</td>\n",
       "      <td>1.87</td>\n",
       "    </tr>\n",
       "    <tr>\n",
       "      <th>3</th>\n",
       "      <td>Premier League</td>\n",
       "      <td>2010-2011</td>\n",
       "      <td>4</td>\n",
       "      <td>Arsenal</td>\n",
       "      <td>38</td>\n",
       "      <td>19</td>\n",
       "      <td>11</td>\n",
       "      <td>8</td>\n",
       "      <td>72</td>\n",
       "      <td>43</td>\n",
       "      <td>29</td>\n",
       "      <td>68</td>\n",
       "      <td>→ UEFA Champions League via league finish</td>\n",
       "      <td>27</td>\n",
       "      <td>51</td>\n",
       "      <td>4</td>\n",
       "      <td>7</td>\n",
       "      <td>65.0</td>\n",
       "      <td>6.0</td>\n",
       "      <td>150</td>\n",
       "      <td>106</td>\n",
       "      <td>13</td>\n",
       "      <td>243</td>\n",
       "      <td>418</td>\n",
       "      <td>NaN</td>\n",
       "      <td>107</td>\n",
       "      <td>NaN</td>\n",
       "      <td>1.79</td>\n",
       "    </tr>\n",
       "    <tr>\n",
       "      <th>4</th>\n",
       "      <td>Premier League</td>\n",
       "      <td>2010-2011</td>\n",
       "      <td>5</td>\n",
       "      <td>Tottenham</td>\n",
       "      <td>38</td>\n",
       "      <td>16</td>\n",
       "      <td>14</td>\n",
       "      <td>8</td>\n",
       "      <td>55</td>\n",
       "      <td>46</td>\n",
       "      <td>9</td>\n",
       "      <td>62</td>\n",
       "      <td>→ UEFA Europa League via league finish</td>\n",
       "      <td>28</td>\n",
       "      <td>34</td>\n",
       "      <td>5</td>\n",
       "      <td>5</td>\n",
       "      <td>50.0</td>\n",
       "      <td>2.0</td>\n",
       "      <td>183</td>\n",
       "      <td>137</td>\n",
       "      <td>8</td>\n",
       "      <td>202</td>\n",
       "      <td>418</td>\n",
       "      <td>NaN</td>\n",
       "      <td>96</td>\n",
       "      <td>NaN</td>\n",
       "      <td>1.63</td>\n",
       "    </tr>\n",
       "  </tbody>\n",
       "</table>\n",
       "</div>"
      ],
      "text/plain": [
       "      competition     season  rank            squad  games  wins  draws  \\\n",
       "0  Premier League  2010-2011     1   Manchester Utd     38    23     11   \n",
       "1  Premier League  2010-2011     2          Chelsea     38    21      8   \n",
       "2  Premier League  2010-2011     3  Manchester City     38    21      8   \n",
       "3  Premier League  2010-2011     4          Arsenal     38    19     11   \n",
       "4  Premier League  2010-2011     5        Tottenham     38    16     14   \n",
       "\n",
       "   losses  goals_for  goals_against  goal_diff  points  \\\n",
       "0       4         78             37         41      80   \n",
       "1       9         69             33         36      71   \n",
       "2       9         60             33         27      71   \n",
       "3       8         72             43         29      68   \n",
       "4       8         55             46          9      62   \n",
       "\n",
       "                                       notes  players_used  assists  \\\n",
       "0  → UEFA Champions League via league finish            29       59   \n",
       "1  → UEFA Champions League via league finish            24       39   \n",
       "2  → UEFA Champions League via league finish            27       35   \n",
       "3  → UEFA Champions League via league finish            27       51   \n",
       "4     → UEFA Europa League via league finish            28       34   \n",
       "\n",
       "   pens_made  pens_att  cards_yellow  cards_red  shots_on_target_against  \\\n",
       "0          3         5          56.0        3.0                      139   \n",
       "1          6         8          59.0        1.0                      148   \n",
       "2          8         9          71.0        5.0                      153   \n",
       "3          4         7          65.0        6.0                      150   \n",
       "4          5         5          50.0        2.0                      183   \n",
       "\n",
       "   saves  clean_sheets  shots_on_target  games_starts  games_complete  \\\n",
       "0    102            15              218           418             NaN   \n",
       "1    115            15              241           418             NaN   \n",
       "2    120            18              182           418             NaN   \n",
       "3    106            13              243           418             NaN   \n",
       "4    137             8              202           418             NaN   \n",
       "\n",
       "   games_subs  unused_subs  points_per_match  \n",
       "0          99          NaN              2.11  \n",
       "1         107          NaN              1.87  \n",
       "2         102          NaN              1.87  \n",
       "3         107          NaN              1.79  \n",
       "4          96          NaN              1.63  "
      ]
     },
     "execution_count": 7,
     "metadata": {},
     "output_type": "execute_result"
    }
   ],
   "source": [
    "df = pd.read_csv('Big 5 European football leagues teams stats.csv')\n",
    "pd.set_option('display.max_columns', None)\n",
    "df.head()"
   ]
  },
  {
   "cell_type": "code",
   "execution_count": 9,
   "metadata": {},
   "outputs": [
    {
     "data": {
      "text/plain": [
       "(1078, 28)"
      ]
     },
     "execution_count": 9,
     "metadata": {},
     "output_type": "execute_result"
    }
   ],
   "source": [
    "df.shape"
   ]
  },
  {
   "cell_type": "code",
   "execution_count": 10,
   "metadata": {},
   "outputs": [
    {
     "name": "stdout",
     "output_type": "stream",
     "text": [
      "<class 'pandas.core.frame.DataFrame'>\n",
      "RangeIndex: 1078 entries, 0 to 1077\n",
      "Data columns (total 28 columns):\n",
      " #   Column                   Non-Null Count  Dtype  \n",
      "---  ------                   --------------  -----  \n",
      " 0   competition              1078 non-null   object \n",
      " 1   season                   1078 non-null   object \n",
      " 2   rank                     1078 non-null   int64  \n",
      " 3   squad                    1078 non-null   object \n",
      " 4   games                    1078 non-null   int64  \n",
      " 5   wins                     1078 non-null   int64  \n",
      " 6   draws                    1078 non-null   int64  \n",
      " 7   losses                   1078 non-null   int64  \n",
      " 8   goals_for                1078 non-null   int64  \n",
      " 9   goals_against            1078 non-null   int64  \n",
      " 10  goal_diff                1078 non-null   int64  \n",
      " 11  points                   1078 non-null   int64  \n",
      " 12  notes                    450 non-null    object \n",
      " 13  players_used             1078 non-null   int64  \n",
      " 14  assists                  1078 non-null   int64  \n",
      " 15  pens_made                1078 non-null   int64  \n",
      " 16  pens_att                 1078 non-null   int64  \n",
      " 17  cards_yellow             985 non-null    float64\n",
      " 18  cards_red                985 non-null    float64\n",
      " 19  shots_on_target_against  1078 non-null   int64  \n",
      " 20  saves                    1078 non-null   int64  \n",
      " 21  clean_sheets             1078 non-null   int64  \n",
      " 22  shots_on_target          1078 non-null   int64  \n",
      " 23  games_starts             1078 non-null   int64  \n",
      " 24  games_complete           158 non-null    float64\n",
      " 25  games_subs               1078 non-null   int64  \n",
      " 26  unused_subs              686 non-null    float64\n",
      " 27  points_per_match         1078 non-null   float64\n",
      "dtypes: float64(5), int64(19), object(4)\n",
      "memory usage: 235.9+ KB\n"
     ]
    }
   ],
   "source": [
    "df.info()"
   ]
  },
  {
   "cell_type": "markdown",
   "metadata": {},
   "source": [
    "- there are missing data in 5 columns ( notes , card_yellow , card_red , games_complete , unused_subs )              "
   ]
  },
  {
   "cell_type": "code",
   "execution_count": 11,
   "metadata": {},
   "outputs": [
    {
     "data": {
      "text/plain": [
       "0"
      ]
     },
     "execution_count": 11,
     "metadata": {},
     "output_type": "execute_result"
    }
   ],
   "source": [
    "sum(df.duplicated())"
   ]
  },
  {
   "cell_type": "markdown",
   "metadata": {},
   "source": [
    "- No Duplicated Data "
   ]
  },
  {
   "cell_type": "code",
   "execution_count": null,
   "metadata": {},
   "outputs": [],
   "source": []
  },
  {
   "cell_type": "code",
   "execution_count": null,
   "metadata": {},
   "outputs": [],
   "source": []
  },
  {
   "cell_type": "code",
   "execution_count": null,
   "metadata": {},
   "outputs": [],
   "source": []
  }
 ],
 "metadata": {
  "kernelspec": {
   "display_name": "Python 3",
   "language": "python",
   "name": "python3"
  },
  "language_info": {
   "codemirror_mode": {
    "name": "ipython",
    "version": 3
   },
   "file_extension": ".py",
   "mimetype": "text/x-python",
   "name": "python",
   "nbconvert_exporter": "python",
   "pygments_lexer": "ipython3",
   "version": "3.8.5"
  }
 },
 "nbformat": 4,
 "nbformat_minor": 4
}
