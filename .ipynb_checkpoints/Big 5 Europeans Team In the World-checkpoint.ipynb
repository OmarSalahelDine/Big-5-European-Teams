{
 "cells": [
  {
   "cell_type": "markdown",
   "metadata": {},
   "source": [
    "# Introduction "
   ]
  },
  {
   "cell_type": "markdown",
   "metadata": {},
   "source": [
    "This Dataset contains the data of top 5 European football leagues from 2010/11 season up to 2020/2021.\n",
    "\n",
    "The columns contains stats of teams season by season and can be used to analyze performance of teams over the years.It consists of name of the team/club,games played,number of wins,number of losses,number of draws,points accumulated and other relevant football stats."
   ]
  },
  {
   "cell_type": "markdown",
   "metadata": {},
   "source": [
    "# Business Understanding"
   ]
  },
  {
   "cell_type": "markdown",
   "metadata": {},
   "source": [
    "this dataset contains data about leagues teams to discover big 5 europeans teams from columns such as \"Competition\" : The league that team play in \"rank\" : the rank in the leaue , \"squad\" : name of team , \"Games\" : no.games , \"goal_diff\" : difference between goal_for and goal_against , \"pens_made\" : no.pens that made against , \"pens_att\" : no.attempts of pens that team achieve ,\"clean_sheets\" : finish the match without goal against , \"points_per_match\" : ratio of points in all matchs"
   ]
  },
  {
   "cell_type": "markdown",
   "metadata": {},
   "source": [
    "# Questions"
   ]
  },
  {
   "cell_type": "markdown",
   "metadata": {},
   "source": [
    "- which teams win the league that plays in over the seasons?\n",
    "- the best attack over the seasons ?\n",
    "- the best defense over the seasons?\n",
    "- which team that achieve the widest point_diff?\n",
    "- which teams that have best goalkeepers?\n",
    "- teams that collect the most points over the seasons?\n",
    "- what about the subs ?\n",
    "- teams which have the best rate for point per match ?"
   ]
  },
  {
   "cell_type": "markdown",
   "metadata": {},
   "source": [
    "# Imports"
   ]
  },
  {
   "cell_type": "code",
   "execution_count": 1,
   "metadata": {},
   "outputs": [],
   "source": [
    "import numpy as np\n",
    "import pandas as pd\n",
    "import matplotlib.pyplot as plt\n",
    "import seaborn as sns "
   ]
  },
  {
   "cell_type": "markdown",
   "metadata": {},
   "source": [
    "# Data Wrangling / Data Understanding"
   ]
  },
  {
   "cell_type": "markdown",
   "metadata": {},
   "source": [
    "# Load Data "
   ]
  },
  {
   "cell_type": "code",
   "execution_count": 2,
   "metadata": {},
   "outputs": [
    {
     "data": {
      "text/html": [
       "<div>\n",
       "<style scoped>\n",
       "    .dataframe tbody tr th:only-of-type {\n",
       "        vertical-align: middle;\n",
       "    }\n",
       "\n",
       "    .dataframe tbody tr th {\n",
       "        vertical-align: top;\n",
       "    }\n",
       "\n",
       "    .dataframe thead th {\n",
       "        text-align: right;\n",
       "    }\n",
       "</style>\n",
       "<table border=\"1\" class=\"dataframe\">\n",
       "  <thead>\n",
       "    <tr style=\"text-align: right;\">\n",
       "      <th></th>\n",
       "      <th>competition</th>\n",
       "      <th>season</th>\n",
       "      <th>rank</th>\n",
       "      <th>squad</th>\n",
       "      <th>games</th>\n",
       "      <th>wins</th>\n",
       "      <th>draws</th>\n",
       "      <th>losses</th>\n",
       "      <th>goals_for</th>\n",
       "      <th>goals_against</th>\n",
       "      <th>goal_diff</th>\n",
       "      <th>points</th>\n",
       "      <th>notes</th>\n",
       "      <th>players_used</th>\n",
       "      <th>assists</th>\n",
       "      <th>pens_made</th>\n",
       "      <th>pens_att</th>\n",
       "      <th>cards_yellow</th>\n",
       "      <th>cards_red</th>\n",
       "      <th>shots_on_target_against</th>\n",
       "      <th>saves</th>\n",
       "      <th>clean_sheets</th>\n",
       "      <th>shots_on_target</th>\n",
       "      <th>games_starts</th>\n",
       "      <th>games_complete</th>\n",
       "      <th>games_subs</th>\n",
       "      <th>unused_subs</th>\n",
       "      <th>points_per_match</th>\n",
       "    </tr>\n",
       "  </thead>\n",
       "  <tbody>\n",
       "    <tr>\n",
       "      <th>0</th>\n",
       "      <td>Premier League</td>\n",
       "      <td>2010-2011</td>\n",
       "      <td>1</td>\n",
       "      <td>Manchester Utd</td>\n",
       "      <td>38</td>\n",
       "      <td>23</td>\n",
       "      <td>11</td>\n",
       "      <td>4</td>\n",
       "      <td>78</td>\n",
       "      <td>37</td>\n",
       "      <td>41</td>\n",
       "      <td>80</td>\n",
       "      <td>→ UEFA Champions League via league finish</td>\n",
       "      <td>29</td>\n",
       "      <td>59</td>\n",
       "      <td>3</td>\n",
       "      <td>5</td>\n",
       "      <td>56.0</td>\n",
       "      <td>3.0</td>\n",
       "      <td>139</td>\n",
       "      <td>102</td>\n",
       "      <td>15</td>\n",
       "      <td>218</td>\n",
       "      <td>418</td>\n",
       "      <td>NaN</td>\n",
       "      <td>99</td>\n",
       "      <td>NaN</td>\n",
       "      <td>2.11</td>\n",
       "    </tr>\n",
       "    <tr>\n",
       "      <th>1</th>\n",
       "      <td>Premier League</td>\n",
       "      <td>2010-2011</td>\n",
       "      <td>2</td>\n",
       "      <td>Chelsea</td>\n",
       "      <td>38</td>\n",
       "      <td>21</td>\n",
       "      <td>8</td>\n",
       "      <td>9</td>\n",
       "      <td>69</td>\n",
       "      <td>33</td>\n",
       "      <td>36</td>\n",
       "      <td>71</td>\n",
       "      <td>→ UEFA Champions League via league finish</td>\n",
       "      <td>24</td>\n",
       "      <td>39</td>\n",
       "      <td>6</td>\n",
       "      <td>8</td>\n",
       "      <td>59.0</td>\n",
       "      <td>1.0</td>\n",
       "      <td>148</td>\n",
       "      <td>115</td>\n",
       "      <td>15</td>\n",
       "      <td>241</td>\n",
       "      <td>418</td>\n",
       "      <td>NaN</td>\n",
       "      <td>107</td>\n",
       "      <td>NaN</td>\n",
       "      <td>1.87</td>\n",
       "    </tr>\n",
       "    <tr>\n",
       "      <th>2</th>\n",
       "      <td>Premier League</td>\n",
       "      <td>2010-2011</td>\n",
       "      <td>3</td>\n",
       "      <td>Manchester City</td>\n",
       "      <td>38</td>\n",
       "      <td>21</td>\n",
       "      <td>8</td>\n",
       "      <td>9</td>\n",
       "      <td>60</td>\n",
       "      <td>33</td>\n",
       "      <td>27</td>\n",
       "      <td>71</td>\n",
       "      <td>→ UEFA Champions League via league finish</td>\n",
       "      <td>27</td>\n",
       "      <td>35</td>\n",
       "      <td>8</td>\n",
       "      <td>9</td>\n",
       "      <td>71.0</td>\n",
       "      <td>5.0</td>\n",
       "      <td>153</td>\n",
       "      <td>120</td>\n",
       "      <td>18</td>\n",
       "      <td>182</td>\n",
       "      <td>418</td>\n",
       "      <td>NaN</td>\n",
       "      <td>102</td>\n",
       "      <td>NaN</td>\n",
       "      <td>1.87</td>\n",
       "    </tr>\n",
       "    <tr>\n",
       "      <th>3</th>\n",
       "      <td>Premier League</td>\n",
       "      <td>2010-2011</td>\n",
       "      <td>4</td>\n",
       "      <td>Arsenal</td>\n",
       "      <td>38</td>\n",
       "      <td>19</td>\n",
       "      <td>11</td>\n",
       "      <td>8</td>\n",
       "      <td>72</td>\n",
       "      <td>43</td>\n",
       "      <td>29</td>\n",
       "      <td>68</td>\n",
       "      <td>→ UEFA Champions League via league finish</td>\n",
       "      <td>27</td>\n",
       "      <td>51</td>\n",
       "      <td>4</td>\n",
       "      <td>7</td>\n",
       "      <td>65.0</td>\n",
       "      <td>6.0</td>\n",
       "      <td>150</td>\n",
       "      <td>106</td>\n",
       "      <td>13</td>\n",
       "      <td>243</td>\n",
       "      <td>418</td>\n",
       "      <td>NaN</td>\n",
       "      <td>107</td>\n",
       "      <td>NaN</td>\n",
       "      <td>1.79</td>\n",
       "    </tr>\n",
       "    <tr>\n",
       "      <th>4</th>\n",
       "      <td>Premier League</td>\n",
       "      <td>2010-2011</td>\n",
       "      <td>5</td>\n",
       "      <td>Tottenham</td>\n",
       "      <td>38</td>\n",
       "      <td>16</td>\n",
       "      <td>14</td>\n",
       "      <td>8</td>\n",
       "      <td>55</td>\n",
       "      <td>46</td>\n",
       "      <td>9</td>\n",
       "      <td>62</td>\n",
       "      <td>→ UEFA Europa League via league finish</td>\n",
       "      <td>28</td>\n",
       "      <td>34</td>\n",
       "      <td>5</td>\n",
       "      <td>5</td>\n",
       "      <td>50.0</td>\n",
       "      <td>2.0</td>\n",
       "      <td>183</td>\n",
       "      <td>137</td>\n",
       "      <td>8</td>\n",
       "      <td>202</td>\n",
       "      <td>418</td>\n",
       "      <td>NaN</td>\n",
       "      <td>96</td>\n",
       "      <td>NaN</td>\n",
       "      <td>1.63</td>\n",
       "    </tr>\n",
       "  </tbody>\n",
       "</table>\n",
       "</div>"
      ],
      "text/plain": [
       "      competition     season  rank            squad  games  wins  draws  \\\n",
       "0  Premier League  2010-2011     1   Manchester Utd     38    23     11   \n",
       "1  Premier League  2010-2011     2          Chelsea     38    21      8   \n",
       "2  Premier League  2010-2011     3  Manchester City     38    21      8   \n",
       "3  Premier League  2010-2011     4          Arsenal     38    19     11   \n",
       "4  Premier League  2010-2011     5        Tottenham     38    16     14   \n",
       "\n",
       "   losses  goals_for  goals_against  goal_diff  points  \\\n",
       "0       4         78             37         41      80   \n",
       "1       9         69             33         36      71   \n",
       "2       9         60             33         27      71   \n",
       "3       8         72             43         29      68   \n",
       "4       8         55             46          9      62   \n",
       "\n",
       "                                       notes  players_used  assists  \\\n",
       "0  → UEFA Champions League via league finish            29       59   \n",
       "1  → UEFA Champions League via league finish            24       39   \n",
       "2  → UEFA Champions League via league finish            27       35   \n",
       "3  → UEFA Champions League via league finish            27       51   \n",
       "4     → UEFA Europa League via league finish            28       34   \n",
       "\n",
       "   pens_made  pens_att  cards_yellow  cards_red  shots_on_target_against  \\\n",
       "0          3         5          56.0        3.0                      139   \n",
       "1          6         8          59.0        1.0                      148   \n",
       "2          8         9          71.0        5.0                      153   \n",
       "3          4         7          65.0        6.0                      150   \n",
       "4          5         5          50.0        2.0                      183   \n",
       "\n",
       "   saves  clean_sheets  shots_on_target  games_starts  games_complete  \\\n",
       "0    102            15              218           418             NaN   \n",
       "1    115            15              241           418             NaN   \n",
       "2    120            18              182           418             NaN   \n",
       "3    106            13              243           418             NaN   \n",
       "4    137             8              202           418             NaN   \n",
       "\n",
       "   games_subs  unused_subs  points_per_match  \n",
       "0          99          NaN              2.11  \n",
       "1         107          NaN              1.87  \n",
       "2         102          NaN              1.87  \n",
       "3         107          NaN              1.79  \n",
       "4          96          NaN              1.63  "
      ]
     },
     "execution_count": 2,
     "metadata": {},
     "output_type": "execute_result"
    }
   ],
   "source": [
    "df = pd.read_csv('Big 5 European football leagues teams stats.csv')\n",
    "pd.set_option('display.max_columns', None)\n",
    "df.head()"
   ]
  },
  {
   "cell_type": "code",
   "execution_count": 3,
   "metadata": {},
   "outputs": [
    {
     "data": {
      "text/plain": [
       "(1078, 28)"
      ]
     },
     "execution_count": 3,
     "metadata": {},
     "output_type": "execute_result"
    }
   ],
   "source": [
    "df.shape"
   ]
  },
  {
   "cell_type": "code",
   "execution_count": 4,
   "metadata": {},
   "outputs": [
    {
     "name": "stdout",
     "output_type": "stream",
     "text": [
      "<class 'pandas.core.frame.DataFrame'>\n",
      "RangeIndex: 1078 entries, 0 to 1077\n",
      "Data columns (total 28 columns):\n",
      " #   Column                   Non-Null Count  Dtype  \n",
      "---  ------                   --------------  -----  \n",
      " 0   competition              1078 non-null   object \n",
      " 1   season                   1078 non-null   object \n",
      " 2   rank                     1078 non-null   int64  \n",
      " 3   squad                    1078 non-null   object \n",
      " 4   games                    1078 non-null   int64  \n",
      " 5   wins                     1078 non-null   int64  \n",
      " 6   draws                    1078 non-null   int64  \n",
      " 7   losses                   1078 non-null   int64  \n",
      " 8   goals_for                1078 non-null   int64  \n",
      " 9   goals_against            1078 non-null   int64  \n",
      " 10  goal_diff                1078 non-null   int64  \n",
      " 11  points                   1078 non-null   int64  \n",
      " 12  notes                    450 non-null    object \n",
      " 13  players_used             1078 non-null   int64  \n",
      " 14  assists                  1078 non-null   int64  \n",
      " 15  pens_made                1078 non-null   int64  \n",
      " 16  pens_att                 1078 non-null   int64  \n",
      " 17  cards_yellow             985 non-null    float64\n",
      " 18  cards_red                985 non-null    float64\n",
      " 19  shots_on_target_against  1078 non-null   int64  \n",
      " 20  saves                    1078 non-null   int64  \n",
      " 21  clean_sheets             1078 non-null   int64  \n",
      " 22  shots_on_target          1078 non-null   int64  \n",
      " 23  games_starts             1078 non-null   int64  \n",
      " 24  games_complete           158 non-null    float64\n",
      " 25  games_subs               1078 non-null   int64  \n",
      " 26  unused_subs              686 non-null    float64\n",
      " 27  points_per_match         1078 non-null   float64\n",
      "dtypes: float64(5), int64(19), object(4)\n",
      "memory usage: 235.9+ KB\n"
     ]
    }
   ],
   "source": [
    "df.info()"
   ]
  },
  {
   "cell_type": "markdown",
   "metadata": {},
   "source": [
    "- there are missing data in 5 columns ( notes , card_yellow , card_red , games_complete , unused_subs )              "
   ]
  },
  {
   "cell_type": "code",
   "execution_count": 5,
   "metadata": {},
   "outputs": [
    {
     "data": {
      "text/plain": [
       "0"
      ]
     },
     "execution_count": 5,
     "metadata": {},
     "output_type": "execute_result"
    }
   ],
   "source": [
    "sum(df.duplicated())"
   ]
  },
  {
   "cell_type": "markdown",
   "metadata": {},
   "source": [
    "- No Duplicated Data"
   ]
  },
  {
   "cell_type": "code",
   "execution_count": 6,
   "metadata": {},
   "outputs": [],
   "source": [
    "df.drop(columns=['notes','cards_yellow','cards_red','games_complete','unused_subs'] ,  axis=1, inplace=True)"
   ]
  },
  {
   "cell_type": "code",
   "execution_count": 7,
   "metadata": {},
   "outputs": [
    {
     "data": {
      "text/html": [
       "<div>\n",
       "<style scoped>\n",
       "    .dataframe tbody tr th:only-of-type {\n",
       "        vertical-align: middle;\n",
       "    }\n",
       "\n",
       "    .dataframe tbody tr th {\n",
       "        vertical-align: top;\n",
       "    }\n",
       "\n",
       "    .dataframe thead th {\n",
       "        text-align: right;\n",
       "    }\n",
       "</style>\n",
       "<table border=\"1\" class=\"dataframe\">\n",
       "  <thead>\n",
       "    <tr style=\"text-align: right;\">\n",
       "      <th></th>\n",
       "      <th>competition</th>\n",
       "      <th>season</th>\n",
       "      <th>rank</th>\n",
       "      <th>squad</th>\n",
       "      <th>games</th>\n",
       "      <th>wins</th>\n",
       "      <th>draws</th>\n",
       "      <th>losses</th>\n",
       "      <th>goals_for</th>\n",
       "      <th>goals_against</th>\n",
       "      <th>goal_diff</th>\n",
       "      <th>points</th>\n",
       "      <th>players_used</th>\n",
       "      <th>assists</th>\n",
       "      <th>pens_made</th>\n",
       "      <th>pens_att</th>\n",
       "      <th>shots_on_target_against</th>\n",
       "      <th>saves</th>\n",
       "      <th>clean_sheets</th>\n",
       "      <th>shots_on_target</th>\n",
       "      <th>games_starts</th>\n",
       "      <th>games_subs</th>\n",
       "      <th>points_per_match</th>\n",
       "    </tr>\n",
       "  </thead>\n",
       "  <tbody>\n",
       "    <tr>\n",
       "      <th>0</th>\n",
       "      <td>Premier League</td>\n",
       "      <td>2010-2011</td>\n",
       "      <td>1</td>\n",
       "      <td>Manchester Utd</td>\n",
       "      <td>38</td>\n",
       "      <td>23</td>\n",
       "      <td>11</td>\n",
       "      <td>4</td>\n",
       "      <td>78</td>\n",
       "      <td>37</td>\n",
       "      <td>41</td>\n",
       "      <td>80</td>\n",
       "      <td>29</td>\n",
       "      <td>59</td>\n",
       "      <td>3</td>\n",
       "      <td>5</td>\n",
       "      <td>139</td>\n",
       "      <td>102</td>\n",
       "      <td>15</td>\n",
       "      <td>218</td>\n",
       "      <td>418</td>\n",
       "      <td>99</td>\n",
       "      <td>2.11</td>\n",
       "    </tr>\n",
       "    <tr>\n",
       "      <th>1</th>\n",
       "      <td>Premier League</td>\n",
       "      <td>2010-2011</td>\n",
       "      <td>2</td>\n",
       "      <td>Chelsea</td>\n",
       "      <td>38</td>\n",
       "      <td>21</td>\n",
       "      <td>8</td>\n",
       "      <td>9</td>\n",
       "      <td>69</td>\n",
       "      <td>33</td>\n",
       "      <td>36</td>\n",
       "      <td>71</td>\n",
       "      <td>24</td>\n",
       "      <td>39</td>\n",
       "      <td>6</td>\n",
       "      <td>8</td>\n",
       "      <td>148</td>\n",
       "      <td>115</td>\n",
       "      <td>15</td>\n",
       "      <td>241</td>\n",
       "      <td>418</td>\n",
       "      <td>107</td>\n",
       "      <td>1.87</td>\n",
       "    </tr>\n",
       "    <tr>\n",
       "      <th>2</th>\n",
       "      <td>Premier League</td>\n",
       "      <td>2010-2011</td>\n",
       "      <td>3</td>\n",
       "      <td>Manchester City</td>\n",
       "      <td>38</td>\n",
       "      <td>21</td>\n",
       "      <td>8</td>\n",
       "      <td>9</td>\n",
       "      <td>60</td>\n",
       "      <td>33</td>\n",
       "      <td>27</td>\n",
       "      <td>71</td>\n",
       "      <td>27</td>\n",
       "      <td>35</td>\n",
       "      <td>8</td>\n",
       "      <td>9</td>\n",
       "      <td>153</td>\n",
       "      <td>120</td>\n",
       "      <td>18</td>\n",
       "      <td>182</td>\n",
       "      <td>418</td>\n",
       "      <td>102</td>\n",
       "      <td>1.87</td>\n",
       "    </tr>\n",
       "    <tr>\n",
       "      <th>3</th>\n",
       "      <td>Premier League</td>\n",
       "      <td>2010-2011</td>\n",
       "      <td>4</td>\n",
       "      <td>Arsenal</td>\n",
       "      <td>38</td>\n",
       "      <td>19</td>\n",
       "      <td>11</td>\n",
       "      <td>8</td>\n",
       "      <td>72</td>\n",
       "      <td>43</td>\n",
       "      <td>29</td>\n",
       "      <td>68</td>\n",
       "      <td>27</td>\n",
       "      <td>51</td>\n",
       "      <td>4</td>\n",
       "      <td>7</td>\n",
       "      <td>150</td>\n",
       "      <td>106</td>\n",
       "      <td>13</td>\n",
       "      <td>243</td>\n",
       "      <td>418</td>\n",
       "      <td>107</td>\n",
       "      <td>1.79</td>\n",
       "    </tr>\n",
       "    <tr>\n",
       "      <th>4</th>\n",
       "      <td>Premier League</td>\n",
       "      <td>2010-2011</td>\n",
       "      <td>5</td>\n",
       "      <td>Tottenham</td>\n",
       "      <td>38</td>\n",
       "      <td>16</td>\n",
       "      <td>14</td>\n",
       "      <td>8</td>\n",
       "      <td>55</td>\n",
       "      <td>46</td>\n",
       "      <td>9</td>\n",
       "      <td>62</td>\n",
       "      <td>28</td>\n",
       "      <td>34</td>\n",
       "      <td>5</td>\n",
       "      <td>5</td>\n",
       "      <td>183</td>\n",
       "      <td>137</td>\n",
       "      <td>8</td>\n",
       "      <td>202</td>\n",
       "      <td>418</td>\n",
       "      <td>96</td>\n",
       "      <td>1.63</td>\n",
       "    </tr>\n",
       "  </tbody>\n",
       "</table>\n",
       "</div>"
      ],
      "text/plain": [
       "      competition     season  rank            squad  games  wins  draws  \\\n",
       "0  Premier League  2010-2011     1   Manchester Utd     38    23     11   \n",
       "1  Premier League  2010-2011     2          Chelsea     38    21      8   \n",
       "2  Premier League  2010-2011     3  Manchester City     38    21      8   \n",
       "3  Premier League  2010-2011     4          Arsenal     38    19     11   \n",
       "4  Premier League  2010-2011     5        Tottenham     38    16     14   \n",
       "\n",
       "   losses  goals_for  goals_against  goal_diff  points  players_used  assists  \\\n",
       "0       4         78             37         41      80            29       59   \n",
       "1       9         69             33         36      71            24       39   \n",
       "2       9         60             33         27      71            27       35   \n",
       "3       8         72             43         29      68            27       51   \n",
       "4       8         55             46          9      62            28       34   \n",
       "\n",
       "   pens_made  pens_att  shots_on_target_against  saves  clean_sheets  \\\n",
       "0          3         5                      139    102            15   \n",
       "1          6         8                      148    115            15   \n",
       "2          8         9                      153    120            18   \n",
       "3          4         7                      150    106            13   \n",
       "4          5         5                      183    137             8   \n",
       "\n",
       "   shots_on_target  games_starts  games_subs  points_per_match  \n",
       "0              218           418          99              2.11  \n",
       "1              241           418         107              1.87  \n",
       "2              182           418         102              1.87  \n",
       "3              243           418         107              1.79  \n",
       "4              202           418          96              1.63  "
      ]
     },
     "execution_count": 7,
     "metadata": {},
     "output_type": "execute_result"
    }
   ],
   "source": [
    "df.head()"
   ]
  },
  {
   "cell_type": "code",
   "execution_count": 8,
   "metadata": {},
   "outputs": [
    {
     "data": {
      "text/plain": [
       "(1078, 23)"
      ]
     },
     "execution_count": 8,
     "metadata": {},
     "output_type": "execute_result"
    }
   ],
   "source": [
    "df.shape"
   ]
  },
  {
   "cell_type": "code",
   "execution_count": 9,
   "metadata": {},
   "outputs": [
    {
     "data": {
      "text/html": [
       "<div>\n",
       "<style scoped>\n",
       "    .dataframe tbody tr th:only-of-type {\n",
       "        vertical-align: middle;\n",
       "    }\n",
       "\n",
       "    .dataframe tbody tr th {\n",
       "        vertical-align: top;\n",
       "    }\n",
       "\n",
       "    .dataframe thead th {\n",
       "        text-align: right;\n",
       "    }\n",
       "</style>\n",
       "<table border=\"1\" class=\"dataframe\">\n",
       "  <thead>\n",
       "    <tr style=\"text-align: right;\">\n",
       "      <th></th>\n",
       "      <th>rank</th>\n",
       "      <th>games</th>\n",
       "      <th>wins</th>\n",
       "      <th>draws</th>\n",
       "      <th>losses</th>\n",
       "      <th>goals_for</th>\n",
       "      <th>goals_against</th>\n",
       "      <th>goal_diff</th>\n",
       "      <th>points</th>\n",
       "      <th>players_used</th>\n",
       "      <th>assists</th>\n",
       "      <th>pens_made</th>\n",
       "      <th>pens_att</th>\n",
       "      <th>shots_on_target_against</th>\n",
       "      <th>saves</th>\n",
       "      <th>clean_sheets</th>\n",
       "      <th>shots_on_target</th>\n",
       "      <th>games_starts</th>\n",
       "      <th>games_subs</th>\n",
       "      <th>points_per_match</th>\n",
       "    </tr>\n",
       "  </thead>\n",
       "  <tbody>\n",
       "    <tr>\n",
       "      <th>count</th>\n",
       "      <td>1078.000000</td>\n",
       "      <td>1078.000000</td>\n",
       "      <td>1078.000000</td>\n",
       "      <td>1078.000000</td>\n",
       "      <td>1078.000000</td>\n",
       "      <td>1078.000000</td>\n",
       "      <td>1078.000000</td>\n",
       "      <td>1078.000000</td>\n",
       "      <td>1078.000000</td>\n",
       "      <td>1078.000000</td>\n",
       "      <td>1078.000000</td>\n",
       "      <td>1078.000000</td>\n",
       "      <td>1078.000000</td>\n",
       "      <td>1078.000000</td>\n",
       "      <td>1078.000000</td>\n",
       "      <td>1078.000000</td>\n",
       "      <td>1078.000000</td>\n",
       "      <td>1078.000000</td>\n",
       "      <td>1078.000000</td>\n",
       "      <td>1078.000000</td>\n",
       "    </tr>\n",
       "    <tr>\n",
       "      <th>mean</th>\n",
       "      <td>10.316327</td>\n",
       "      <td>37.077922</td>\n",
       "      <td>13.867347</td>\n",
       "      <td>9.343228</td>\n",
       "      <td>13.867347</td>\n",
       "      <td>50.611317</td>\n",
       "      <td>50.611317</td>\n",
       "      <td>0.000000</td>\n",
       "      <td>50.913729</td>\n",
       "      <td>27.867347</td>\n",
       "      <td>33.517625</td>\n",
       "      <td>4.314471</td>\n",
       "      <td>5.545455</td>\n",
       "      <td>160.691095</td>\n",
       "      <td>112.125232</td>\n",
       "      <td>10.269944</td>\n",
       "      <td>164.905380</td>\n",
       "      <td>407.820037</td>\n",
       "      <td>109.913729</td>\n",
       "      <td>1.373302</td>\n",
       "    </tr>\n",
       "    <tr>\n",
       "      <th>std</th>\n",
       "      <td>5.680370</td>\n",
       "      <td>1.996621</td>\n",
       "      <td>5.858596</td>\n",
       "      <td>2.990701</td>\n",
       "      <td>5.363658</td>\n",
       "      <td>16.774271</td>\n",
       "      <td>12.677565</td>\n",
       "      <td>25.632355</td>\n",
       "      <td>16.706516</td>\n",
       "      <td>3.277909</td>\n",
       "      <td>12.725411</td>\n",
       "      <td>2.495380</td>\n",
       "      <td>2.904751</td>\n",
       "      <td>31.489075</td>\n",
       "      <td>22.682912</td>\n",
       "      <td>3.890140</td>\n",
       "      <td>40.260807</td>\n",
       "      <td>21.960526</td>\n",
       "      <td>16.508769</td>\n",
       "      <td>0.443553</td>\n",
       "    </tr>\n",
       "    <tr>\n",
       "      <th>min</th>\n",
       "      <td>1.000000</td>\n",
       "      <td>27.000000</td>\n",
       "      <td>2.000000</td>\n",
       "      <td>2.000000</td>\n",
       "      <td>0.000000</td>\n",
       "      <td>20.000000</td>\n",
       "      <td>17.000000</td>\n",
       "      <td>-61.000000</td>\n",
       "      <td>13.000000</td>\n",
       "      <td>19.000000</td>\n",
       "      <td>10.000000</td>\n",
       "      <td>0.000000</td>\n",
       "      <td>0.000000</td>\n",
       "      <td>71.000000</td>\n",
       "      <td>45.000000</td>\n",
       "      <td>2.000000</td>\n",
       "      <td>77.000000</td>\n",
       "      <td>297.000000</td>\n",
       "      <td>71.000000</td>\n",
       "      <td>0.420000</td>\n",
       "    </tr>\n",
       "    <tr>\n",
       "      <th>25%</th>\n",
       "      <td>5.000000</td>\n",
       "      <td>38.000000</td>\n",
       "      <td>10.000000</td>\n",
       "      <td>7.000000</td>\n",
       "      <td>10.000000</td>\n",
       "      <td>39.000000</td>\n",
       "      <td>42.000000</td>\n",
       "      <td>-17.000000</td>\n",
       "      <td>40.000000</td>\n",
       "      <td>25.000000</td>\n",
       "      <td>25.000000</td>\n",
       "      <td>3.000000</td>\n",
       "      <td>3.000000</td>\n",
       "      <td>139.000000</td>\n",
       "      <td>97.000000</td>\n",
       "      <td>8.000000</td>\n",
       "      <td>137.000000</td>\n",
       "      <td>418.000000</td>\n",
       "      <td>101.000000</td>\n",
       "      <td>1.080000</td>\n",
       "    </tr>\n",
       "    <tr>\n",
       "      <th>50%</th>\n",
       "      <td>10.000000</td>\n",
       "      <td>38.000000</td>\n",
       "      <td>12.000000</td>\n",
       "      <td>9.000000</td>\n",
       "      <td>14.000000</td>\n",
       "      <td>47.000000</td>\n",
       "      <td>51.000000</td>\n",
       "      <td>-5.000000</td>\n",
       "      <td>47.000000</td>\n",
       "      <td>28.000000</td>\n",
       "      <td>31.000000</td>\n",
       "      <td>4.000000</td>\n",
       "      <td>5.000000</td>\n",
       "      <td>162.000000</td>\n",
       "      <td>111.000000</td>\n",
       "      <td>10.000000</td>\n",
       "      <td>157.000000</td>\n",
       "      <td>418.000000</td>\n",
       "      <td>109.000000</td>\n",
       "      <td>1.260000</td>\n",
       "    </tr>\n",
       "    <tr>\n",
       "      <th>75%</th>\n",
       "      <td>15.000000</td>\n",
       "      <td>38.000000</td>\n",
       "      <td>17.000000</td>\n",
       "      <td>11.000000</td>\n",
       "      <td>18.000000</td>\n",
       "      <td>59.000000</td>\n",
       "      <td>58.750000</td>\n",
       "      <td>13.750000</td>\n",
       "      <td>61.000000</td>\n",
       "      <td>30.000000</td>\n",
       "      <td>39.000000</td>\n",
       "      <td>6.000000</td>\n",
       "      <td>7.000000</td>\n",
       "      <td>180.750000</td>\n",
       "      <td>126.000000</td>\n",
       "      <td>13.000000</td>\n",
       "      <td>186.000000</td>\n",
       "      <td>418.000000</td>\n",
       "      <td>113.000000</td>\n",
       "      <td>1.630000</td>\n",
       "    </tr>\n",
       "    <tr>\n",
       "      <th>max</th>\n",
       "      <td>20.000000</td>\n",
       "      <td>38.000000</td>\n",
       "      <td>33.000000</td>\n",
       "      <td>19.000000</td>\n",
       "      <td>29.000000</td>\n",
       "      <td>121.000000</td>\n",
       "      <td>94.000000</td>\n",
       "      <td>89.000000</td>\n",
       "      <td>102.000000</td>\n",
       "      <td>42.000000</td>\n",
       "      <td>91.000000</td>\n",
       "      <td>15.000000</td>\n",
       "      <td>20.000000</td>\n",
       "      <td>271.000000</td>\n",
       "      <td>199.000000</td>\n",
       "      <td>24.000000</td>\n",
       "      <td>318.000000</td>\n",
       "      <td>419.000000</td>\n",
       "      <td>189.000000</td>\n",
       "      <td>2.680000</td>\n",
       "    </tr>\n",
       "  </tbody>\n",
       "</table>\n",
       "</div>"
      ],
      "text/plain": [
       "              rank        games         wins        draws       losses  \\\n",
       "count  1078.000000  1078.000000  1078.000000  1078.000000  1078.000000   \n",
       "mean     10.316327    37.077922    13.867347     9.343228    13.867347   \n",
       "std       5.680370     1.996621     5.858596     2.990701     5.363658   \n",
       "min       1.000000    27.000000     2.000000     2.000000     0.000000   \n",
       "25%       5.000000    38.000000    10.000000     7.000000    10.000000   \n",
       "50%      10.000000    38.000000    12.000000     9.000000    14.000000   \n",
       "75%      15.000000    38.000000    17.000000    11.000000    18.000000   \n",
       "max      20.000000    38.000000    33.000000    19.000000    29.000000   \n",
       "\n",
       "         goals_for  goals_against    goal_diff       points  players_used  \\\n",
       "count  1078.000000    1078.000000  1078.000000  1078.000000   1078.000000   \n",
       "mean     50.611317      50.611317     0.000000    50.913729     27.867347   \n",
       "std      16.774271      12.677565    25.632355    16.706516      3.277909   \n",
       "min      20.000000      17.000000   -61.000000    13.000000     19.000000   \n",
       "25%      39.000000      42.000000   -17.000000    40.000000     25.000000   \n",
       "50%      47.000000      51.000000    -5.000000    47.000000     28.000000   \n",
       "75%      59.000000      58.750000    13.750000    61.000000     30.000000   \n",
       "max     121.000000      94.000000    89.000000   102.000000     42.000000   \n",
       "\n",
       "           assists    pens_made     pens_att  shots_on_target_against  \\\n",
       "count  1078.000000  1078.000000  1078.000000              1078.000000   \n",
       "mean     33.517625     4.314471     5.545455               160.691095   \n",
       "std      12.725411     2.495380     2.904751                31.489075   \n",
       "min      10.000000     0.000000     0.000000                71.000000   \n",
       "25%      25.000000     3.000000     3.000000               139.000000   \n",
       "50%      31.000000     4.000000     5.000000               162.000000   \n",
       "75%      39.000000     6.000000     7.000000               180.750000   \n",
       "max      91.000000    15.000000    20.000000               271.000000   \n",
       "\n",
       "             saves  clean_sheets  shots_on_target  games_starts   games_subs  \\\n",
       "count  1078.000000   1078.000000      1078.000000   1078.000000  1078.000000   \n",
       "mean    112.125232     10.269944       164.905380    407.820037   109.913729   \n",
       "std      22.682912      3.890140        40.260807     21.960526    16.508769   \n",
       "min      45.000000      2.000000        77.000000    297.000000    71.000000   \n",
       "25%      97.000000      8.000000       137.000000    418.000000   101.000000   \n",
       "50%     111.000000     10.000000       157.000000    418.000000   109.000000   \n",
       "75%     126.000000     13.000000       186.000000    418.000000   113.000000   \n",
       "max     199.000000     24.000000       318.000000    419.000000   189.000000   \n",
       "\n",
       "       points_per_match  \n",
       "count       1078.000000  \n",
       "mean           1.373302  \n",
       "std            0.443553  \n",
       "min            0.420000  \n",
       "25%            1.080000  \n",
       "50%            1.260000  \n",
       "75%            1.630000  \n",
       "max            2.680000  "
      ]
     },
     "execution_count": 9,
     "metadata": {},
     "output_type": "execute_result"
    }
   ],
   "source": [
    "df.describe()"
   ]
  },
  {
   "cell_type": "markdown",
   "metadata": {},
   "source": [
    "# Exploratory Data Analysis "
   ]
  },
  {
   "cell_type": "markdown",
   "metadata": {},
   "source": [
    "# which teams win the league that plays in over the seasons?"
   ]
  },
  {
   "cell_type": "code",
   "execution_count": 10,
   "metadata": {},
   "outputs": [
    {
     "data": {
      "text/plain": [
       "Premier League        220\n",
       "Serie A               220\n",
       "Ligue 1               220\n",
       "La Liga               220\n",
       "Fußball-Bundesliga    198\n",
       "Name: competition, dtype: int64"
      ]
     },
     "execution_count": 10,
     "metadata": {},
     "output_type": "execute_result"
    }
   ],
   "source": [
    "df['competition'].value_counts()"
   ]
  },
  {
   "cell_type": "code",
   "execution_count": 11,
   "metadata": {},
   "outputs": [
    {
     "data": {
      "text/plain": [
       "2010-2011    98\n",
       "2011-2012    98\n",
       "2016-2017    98\n",
       "2018-2019    98\n",
       "2014-2015    98\n",
       "2017-2018    98\n",
       "2019-2020    98\n",
       "2012-2013    98\n",
       "2013-2014    98\n",
       "2020-2021    98\n",
       "2015-2016    98\n",
       "Name: season, dtype: int64"
      ]
     },
     "execution_count": 11,
     "metadata": {},
     "output_type": "execute_result"
    }
   ],
   "source": [
    "df['season'].value_counts()"
   ]
  },
  {
   "cell_type": "code",
   "execution_count": 12,
   "metadata": {},
   "outputs": [
    {
     "data": {
      "text/html": [
       "<div>\n",
       "<style scoped>\n",
       "    .dataframe tbody tr th:only-of-type {\n",
       "        vertical-align: middle;\n",
       "    }\n",
       "\n",
       "    .dataframe tbody tr th {\n",
       "        vertical-align: top;\n",
       "    }\n",
       "\n",
       "    .dataframe thead th {\n",
       "        text-align: right;\n",
       "    }\n",
       "</style>\n",
       "<table border=\"1\" class=\"dataframe\">\n",
       "  <thead>\n",
       "    <tr style=\"text-align: right;\">\n",
       "      <th></th>\n",
       "      <th>competition</th>\n",
       "      <th>season</th>\n",
       "      <th>rank</th>\n",
       "      <th>squad</th>\n",
       "      <th>games</th>\n",
       "      <th>wins</th>\n",
       "      <th>draws</th>\n",
       "      <th>losses</th>\n",
       "      <th>goals_for</th>\n",
       "      <th>goals_against</th>\n",
       "      <th>goal_diff</th>\n",
       "      <th>points</th>\n",
       "      <th>players_used</th>\n",
       "      <th>assists</th>\n",
       "      <th>pens_made</th>\n",
       "      <th>pens_att</th>\n",
       "      <th>shots_on_target_against</th>\n",
       "      <th>saves</th>\n",
       "      <th>clean_sheets</th>\n",
       "      <th>shots_on_target</th>\n",
       "      <th>games_starts</th>\n",
       "      <th>games_subs</th>\n",
       "      <th>points_per_match</th>\n",
       "    </tr>\n",
       "  </thead>\n",
       "  <tbody>\n",
       "    <tr>\n",
       "      <th>0</th>\n",
       "      <td>Premier League</td>\n",
       "      <td>2010-2011</td>\n",
       "      <td>1</td>\n",
       "      <td>Manchester Utd</td>\n",
       "      <td>38</td>\n",
       "      <td>23</td>\n",
       "      <td>11</td>\n",
       "      <td>4</td>\n",
       "      <td>78</td>\n",
       "      <td>37</td>\n",
       "      <td>41</td>\n",
       "      <td>80</td>\n",
       "      <td>29</td>\n",
       "      <td>59</td>\n",
       "      <td>3</td>\n",
       "      <td>5</td>\n",
       "      <td>139</td>\n",
       "      <td>102</td>\n",
       "      <td>15</td>\n",
       "      <td>218</td>\n",
       "      <td>418</td>\n",
       "      <td>99</td>\n",
       "      <td>2.11</td>\n",
       "    </tr>\n",
       "    <tr>\n",
       "      <th>20</th>\n",
       "      <td>Premier League</td>\n",
       "      <td>2011-2012</td>\n",
       "      <td>1</td>\n",
       "      <td>Manchester City</td>\n",
       "      <td>38</td>\n",
       "      <td>28</td>\n",
       "      <td>5</td>\n",
       "      <td>5</td>\n",
       "      <td>93</td>\n",
       "      <td>29</td>\n",
       "      <td>64</td>\n",
       "      <td>89</td>\n",
       "      <td>24</td>\n",
       "      <td>73</td>\n",
       "      <td>7</td>\n",
       "      <td>8</td>\n",
       "      <td>133</td>\n",
       "      <td>104</td>\n",
       "      <td>17</td>\n",
       "      <td>262</td>\n",
       "      <td>418</td>\n",
       "      <td>110</td>\n",
       "      <td>2.34</td>\n",
       "    </tr>\n",
       "    <tr>\n",
       "      <th>40</th>\n",
       "      <td>Premier League</td>\n",
       "      <td>2012-2013</td>\n",
       "      <td>1</td>\n",
       "      <td>Manchester Utd</td>\n",
       "      <td>38</td>\n",
       "      <td>28</td>\n",
       "      <td>5</td>\n",
       "      <td>5</td>\n",
       "      <td>86</td>\n",
       "      <td>43</td>\n",
       "      <td>43</td>\n",
       "      <td>89</td>\n",
       "      <td>25</td>\n",
       "      <td>63</td>\n",
       "      <td>4</td>\n",
       "      <td>7</td>\n",
       "      <td>152</td>\n",
       "      <td>109</td>\n",
       "      <td>13</td>\n",
       "      <td>243</td>\n",
       "      <td>418</td>\n",
       "      <td>100</td>\n",
       "      <td>2.34</td>\n",
       "    </tr>\n",
       "    <tr>\n",
       "      <th>60</th>\n",
       "      <td>Premier League</td>\n",
       "      <td>2013-2014</td>\n",
       "      <td>1</td>\n",
       "      <td>Manchester City</td>\n",
       "      <td>38</td>\n",
       "      <td>27</td>\n",
       "      <td>5</td>\n",
       "      <td>6</td>\n",
       "      <td>102</td>\n",
       "      <td>37</td>\n",
       "      <td>65</td>\n",
       "      <td>86</td>\n",
       "      <td>23</td>\n",
       "      <td>63</td>\n",
       "      <td>6</td>\n",
       "      <td>7</td>\n",
       "      <td>126</td>\n",
       "      <td>89</td>\n",
       "      <td>16</td>\n",
       "      <td>239</td>\n",
       "      <td>418</td>\n",
       "      <td>108</td>\n",
       "      <td>2.26</td>\n",
       "    </tr>\n",
       "    <tr>\n",
       "      <th>80</th>\n",
       "      <td>Premier League</td>\n",
       "      <td>2014-2015</td>\n",
       "      <td>1</td>\n",
       "      <td>Chelsea</td>\n",
       "      <td>38</td>\n",
       "      <td>26</td>\n",
       "      <td>9</td>\n",
       "      <td>3</td>\n",
       "      <td>73</td>\n",
       "      <td>32</td>\n",
       "      <td>41</td>\n",
       "      <td>87</td>\n",
       "      <td>25</td>\n",
       "      <td>59</td>\n",
       "      <td>4</td>\n",
       "      <td>5</td>\n",
       "      <td>121</td>\n",
       "      <td>89</td>\n",
       "      <td>17</td>\n",
       "      <td>209</td>\n",
       "      <td>418</td>\n",
       "      <td>113</td>\n",
       "      <td>2.29</td>\n",
       "    </tr>\n",
       "    <tr>\n",
       "      <th>100</th>\n",
       "      <td>Premier League</td>\n",
       "      <td>2015-2016</td>\n",
       "      <td>1</td>\n",
       "      <td>Leicester City</td>\n",
       "      <td>38</td>\n",
       "      <td>23</td>\n",
       "      <td>12</td>\n",
       "      <td>3</td>\n",
       "      <td>68</td>\n",
       "      <td>36</td>\n",
       "      <td>32</td>\n",
       "      <td>81</td>\n",
       "      <td>23</td>\n",
       "      <td>43</td>\n",
       "      <td>10</td>\n",
       "      <td>13</td>\n",
       "      <td>136</td>\n",
       "      <td>100</td>\n",
       "      <td>15</td>\n",
       "      <td>179</td>\n",
       "      <td>418</td>\n",
       "      <td>109</td>\n",
       "      <td>2.13</td>\n",
       "    </tr>\n",
       "    <tr>\n",
       "      <th>120</th>\n",
       "      <td>Premier League</td>\n",
       "      <td>2016-2017</td>\n",
       "      <td>1</td>\n",
       "      <td>Chelsea</td>\n",
       "      <td>38</td>\n",
       "      <td>30</td>\n",
       "      <td>3</td>\n",
       "      <td>5</td>\n",
       "      <td>85</td>\n",
       "      <td>33</td>\n",
       "      <td>52</td>\n",
       "      <td>93</td>\n",
       "      <td>24</td>\n",
       "      <td>53</td>\n",
       "      <td>2</td>\n",
       "      <td>4</td>\n",
       "      <td>105</td>\n",
       "      <td>72</td>\n",
       "      <td>16</td>\n",
       "      <td>205</td>\n",
       "      <td>418</td>\n",
       "      <td>114</td>\n",
       "      <td>2.45</td>\n",
       "    </tr>\n",
       "    <tr>\n",
       "      <th>140</th>\n",
       "      <td>Premier League</td>\n",
       "      <td>2017-2018</td>\n",
       "      <td>1</td>\n",
       "      <td>Manchester City</td>\n",
       "      <td>38</td>\n",
       "      <td>32</td>\n",
       "      <td>4</td>\n",
       "      <td>2</td>\n",
       "      <td>106</td>\n",
       "      <td>27</td>\n",
       "      <td>79</td>\n",
       "      <td>100</td>\n",
       "      <td>25</td>\n",
       "      <td>85</td>\n",
       "      <td>6</td>\n",
       "      <td>8</td>\n",
       "      <td>82</td>\n",
       "      <td>56</td>\n",
       "      <td>18</td>\n",
       "      <td>255</td>\n",
       "      <td>418</td>\n",
       "      <td>106</td>\n",
       "      <td>2.63</td>\n",
       "    </tr>\n",
       "    <tr>\n",
       "      <th>160</th>\n",
       "      <td>Premier League</td>\n",
       "      <td>2018-2019</td>\n",
       "      <td>1</td>\n",
       "      <td>Manchester City</td>\n",
       "      <td>38</td>\n",
       "      <td>32</td>\n",
       "      <td>2</td>\n",
       "      <td>4</td>\n",
       "      <td>95</td>\n",
       "      <td>23</td>\n",
       "      <td>72</td>\n",
       "      <td>98</td>\n",
       "      <td>21</td>\n",
       "      <td>71</td>\n",
       "      <td>3</td>\n",
       "      <td>4</td>\n",
       "      <td>76</td>\n",
       "      <td>57</td>\n",
       "      <td>20</td>\n",
       "      <td>249</td>\n",
       "      <td>418</td>\n",
       "      <td>108</td>\n",
       "      <td>2.58</td>\n",
       "    </tr>\n",
       "    <tr>\n",
       "      <th>180</th>\n",
       "      <td>Premier League</td>\n",
       "      <td>2019-2020</td>\n",
       "      <td>1</td>\n",
       "      <td>Liverpool</td>\n",
       "      <td>38</td>\n",
       "      <td>32</td>\n",
       "      <td>3</td>\n",
       "      <td>3</td>\n",
       "      <td>85</td>\n",
       "      <td>33</td>\n",
       "      <td>52</td>\n",
       "      <td>99</td>\n",
       "      <td>24</td>\n",
       "      <td>69</td>\n",
       "      <td>5</td>\n",
       "      <td>5</td>\n",
       "      <td>107</td>\n",
       "      <td>75</td>\n",
       "      <td>15</td>\n",
       "      <td>222</td>\n",
       "      <td>418</td>\n",
       "      <td>127</td>\n",
       "      <td>2.61</td>\n",
       "    </tr>\n",
       "    <tr>\n",
       "      <th>200</th>\n",
       "      <td>Premier League</td>\n",
       "      <td>2020-2021</td>\n",
       "      <td>1</td>\n",
       "      <td>Manchester City</td>\n",
       "      <td>38</td>\n",
       "      <td>27</td>\n",
       "      <td>5</td>\n",
       "      <td>6</td>\n",
       "      <td>83</td>\n",
       "      <td>32</td>\n",
       "      <td>51</td>\n",
       "      <td>86</td>\n",
       "      <td>24</td>\n",
       "      <td>55</td>\n",
       "      <td>5</td>\n",
       "      <td>9</td>\n",
       "      <td>89</td>\n",
       "      <td>65</td>\n",
       "      <td>19</td>\n",
       "      <td>213</td>\n",
       "      <td>418</td>\n",
       "      <td>77</td>\n",
       "      <td>2.26</td>\n",
       "    </tr>\n",
       "  </tbody>\n",
       "</table>\n",
       "</div>"
      ],
      "text/plain": [
       "        competition     season  rank            squad  games  wins  draws  \\\n",
       "0    Premier League  2010-2011     1   Manchester Utd     38    23     11   \n",
       "20   Premier League  2011-2012     1  Manchester City     38    28      5   \n",
       "40   Premier League  2012-2013     1   Manchester Utd     38    28      5   \n",
       "60   Premier League  2013-2014     1  Manchester City     38    27      5   \n",
       "80   Premier League  2014-2015     1          Chelsea     38    26      9   \n",
       "100  Premier League  2015-2016     1   Leicester City     38    23     12   \n",
       "120  Premier League  2016-2017     1          Chelsea     38    30      3   \n",
       "140  Premier League  2017-2018     1  Manchester City     38    32      4   \n",
       "160  Premier League  2018-2019     1  Manchester City     38    32      2   \n",
       "180  Premier League  2019-2020     1        Liverpool     38    32      3   \n",
       "200  Premier League  2020-2021     1  Manchester City     38    27      5   \n",
       "\n",
       "     losses  goals_for  goals_against  goal_diff  points  players_used  \\\n",
       "0         4         78             37         41      80            29   \n",
       "20        5         93             29         64      89            24   \n",
       "40        5         86             43         43      89            25   \n",
       "60        6        102             37         65      86            23   \n",
       "80        3         73             32         41      87            25   \n",
       "100       3         68             36         32      81            23   \n",
       "120       5         85             33         52      93            24   \n",
       "140       2        106             27         79     100            25   \n",
       "160       4         95             23         72      98            21   \n",
       "180       3         85             33         52      99            24   \n",
       "200       6         83             32         51      86            24   \n",
       "\n",
       "     assists  pens_made  pens_att  shots_on_target_against  saves  \\\n",
       "0         59          3         5                      139    102   \n",
       "20        73          7         8                      133    104   \n",
       "40        63          4         7                      152    109   \n",
       "60        63          6         7                      126     89   \n",
       "80        59          4         5                      121     89   \n",
       "100       43         10        13                      136    100   \n",
       "120       53          2         4                      105     72   \n",
       "140       85          6         8                       82     56   \n",
       "160       71          3         4                       76     57   \n",
       "180       69          5         5                      107     75   \n",
       "200       55          5         9                       89     65   \n",
       "\n",
       "     clean_sheets  shots_on_target  games_starts  games_subs  points_per_match  \n",
       "0              15              218           418          99              2.11  \n",
       "20             17              262           418         110              2.34  \n",
       "40             13              243           418         100              2.34  \n",
       "60             16              239           418         108              2.26  \n",
       "80             17              209           418         113              2.29  \n",
       "100            15              179           418         109              2.13  \n",
       "120            16              205           418         114              2.45  \n",
       "140            18              255           418         106              2.63  \n",
       "160            20              249           418         108              2.58  \n",
       "180            15              222           418         127              2.61  \n",
       "200            19              213           418          77              2.26  "
      ]
     },
     "execution_count": 12,
     "metadata": {},
     "output_type": "execute_result"
    }
   ],
   "source": [
    "PL =  df[(df['competition'] == 'Premier League') & (df['rank'] == 1)]\n",
    "PL"
   ]
  },
  {
   "cell_type": "code",
   "execution_count": 13,
   "metadata": {},
   "outputs": [
    {
     "data": {
      "text/plain": [
       "Text(0.5, 1.0, 'the most crowned')"
      ]
     },
     "execution_count": 13,
     "metadata": {},
     "output_type": "execute_result"
    },
    {
     "data": {
      "image/png": "[encoded data removed]",
      "text/plain": [
       "<Figure size 576x288 with 1 Axes>"
      ]
     },
     "metadata": {
      "needs_background": "light"
     },
     "output_type": "display_data"
    }
   ],
   "source": [
    "plt.figure(figsize=(8,4))\n",
    "basic_color = sns.color_palette()[0]\n",
    "pl = sns.countplot( x = 'squad' , data = PL , color = basic_color)\n",
    "plt.xticks(rotation = 15)\n",
    "pl.set_title('the most crowned')"
   ]
  },
  {
   "cell_type": "markdown",
   "metadata": {},
   "source": [
    "- In The Premier League was man_city the team that won the league the most five times"
   ]
  },
  {
   "cell_type": "code",
   "execution_count": 14,
   "metadata": {},
   "outputs": [
    {
     "data": {
      "text/html": [
       "<div>\n",
       "<style scoped>\n",
       "    .dataframe tbody tr th:only-of-type {\n",
       "        vertical-align: middle;\n",
       "    }\n",
       "\n",
       "    .dataframe tbody tr th {\n",
       "        vertical-align: top;\n",
       "    }\n",
       "\n",
       "    .dataframe thead th {\n",
       "        text-align: right;\n",
       "    }\n",
       "</style>\n",
       "<table border=\"1\" class=\"dataframe\">\n",
       "  <thead>\n",
       "    <tr style=\"text-align: right;\">\n",
       "      <th></th>\n",
       "      <th>competition</th>\n",
       "      <th>season</th>\n",
       "      <th>rank</th>\n",
       "      <th>squad</th>\n",
       "      <th>games</th>\n",
       "      <th>wins</th>\n",
       "      <th>draws</th>\n",
       "      <th>losses</th>\n",
       "      <th>goals_for</th>\n",
       "      <th>goals_against</th>\n",
       "      <th>goal_diff</th>\n",
       "      <th>points</th>\n",
       "      <th>players_used</th>\n",
       "      <th>assists</th>\n",
       "      <th>pens_made</th>\n",
       "      <th>pens_att</th>\n",
       "      <th>shots_on_target_against</th>\n",
       "      <th>saves</th>\n",
       "      <th>clean_sheets</th>\n",
       "      <th>shots_on_target</th>\n",
       "      <th>games_starts</th>\n",
       "      <th>games_subs</th>\n",
       "      <th>points_per_match</th>\n",
       "    </tr>\n",
       "  </thead>\n",
       "  <tbody>\n",
       "    <tr>\n",
       "      <th>858</th>\n",
       "      <td>La Liga</td>\n",
       "      <td>2010-2011</td>\n",
       "      <td>1</td>\n",
       "      <td>Barcelona</td>\n",
       "      <td>38</td>\n",
       "      <td>30</td>\n",
       "      <td>6</td>\n",
       "      <td>2</td>\n",
       "      <td>95</td>\n",
       "      <td>21</td>\n",
       "      <td>74</td>\n",
       "      <td>96</td>\n",
       "      <td>28</td>\n",
       "      <td>73</td>\n",
       "      <td>5</td>\n",
       "      <td>5</td>\n",
       "      <td>116</td>\n",
       "      <td>95</td>\n",
       "      <td>19</td>\n",
       "      <td>286</td>\n",
       "      <td>418</td>\n",
       "      <td>112</td>\n",
       "      <td>2.53</td>\n",
       "    </tr>\n",
       "    <tr>\n",
       "      <th>878</th>\n",
       "      <td>La Liga</td>\n",
       "      <td>2011-2012</td>\n",
       "      <td>1</td>\n",
       "      <td>Real Madrid</td>\n",
       "      <td>38</td>\n",
       "      <td>32</td>\n",
       "      <td>4</td>\n",
       "      <td>2</td>\n",
       "      <td>121</td>\n",
       "      <td>32</td>\n",
       "      <td>89</td>\n",
       "      <td>100</td>\n",
       "      <td>25</td>\n",
       "      <td>85</td>\n",
       "      <td>12</td>\n",
       "      <td>13</td>\n",
       "      <td>134</td>\n",
       "      <td>102</td>\n",
       "      <td>14</td>\n",
       "      <td>311</td>\n",
       "      <td>418</td>\n",
       "      <td>114</td>\n",
       "      <td>2.63</td>\n",
       "    </tr>\n",
       "    <tr>\n",
       "      <th>898</th>\n",
       "      <td>La Liga</td>\n",
       "      <td>2012-2013</td>\n",
       "      <td>1</td>\n",
       "      <td>Barcelona</td>\n",
       "      <td>38</td>\n",
       "      <td>32</td>\n",
       "      <td>4</td>\n",
       "      <td>2</td>\n",
       "      <td>115</td>\n",
       "      <td>40</td>\n",
       "      <td>75</td>\n",
       "      <td>100</td>\n",
       "      <td>25</td>\n",
       "      <td>91</td>\n",
       "      <td>4</td>\n",
       "      <td>5</td>\n",
       "      <td>117</td>\n",
       "      <td>77</td>\n",
       "      <td>10</td>\n",
       "      <td>275</td>\n",
       "      <td>418</td>\n",
       "      <td>111</td>\n",
       "      <td>2.63</td>\n",
       "    </tr>\n",
       "    <tr>\n",
       "      <th>918</th>\n",
       "      <td>La Liga</td>\n",
       "      <td>2013-2014</td>\n",
       "      <td>1</td>\n",
       "      <td>Atlético Madrid</td>\n",
       "      <td>38</td>\n",
       "      <td>28</td>\n",
       "      <td>6</td>\n",
       "      <td>4</td>\n",
       "      <td>77</td>\n",
       "      <td>26</td>\n",
       "      <td>51</td>\n",
       "      <td>90</td>\n",
       "      <td>25</td>\n",
       "      <td>55</td>\n",
       "      <td>6</td>\n",
       "      <td>10</td>\n",
       "      <td>100</td>\n",
       "      <td>74</td>\n",
       "      <td>20</td>\n",
       "      <td>212</td>\n",
       "      <td>418</td>\n",
       "      <td>105</td>\n",
       "      <td>2.37</td>\n",
       "    </tr>\n",
       "    <tr>\n",
       "      <th>938</th>\n",
       "      <td>La Liga</td>\n",
       "      <td>2014-2015</td>\n",
       "      <td>1</td>\n",
       "      <td>Barcelona</td>\n",
       "      <td>38</td>\n",
       "      <td>30</td>\n",
       "      <td>4</td>\n",
       "      <td>4</td>\n",
       "      <td>110</td>\n",
       "      <td>21</td>\n",
       "      <td>89</td>\n",
       "      <td>94</td>\n",
       "      <td>24</td>\n",
       "      <td>79</td>\n",
       "      <td>6</td>\n",
       "      <td>7</td>\n",
       "      <td>91</td>\n",
       "      <td>70</td>\n",
       "      <td>23</td>\n",
       "      <td>291</td>\n",
       "      <td>418</td>\n",
       "      <td>107</td>\n",
       "      <td>2.47</td>\n",
       "    </tr>\n",
       "    <tr>\n",
       "      <th>958</th>\n",
       "      <td>La Liga</td>\n",
       "      <td>2015-2016</td>\n",
       "      <td>1</td>\n",
       "      <td>Barcelona</td>\n",
       "      <td>38</td>\n",
       "      <td>29</td>\n",
       "      <td>4</td>\n",
       "      <td>5</td>\n",
       "      <td>112</td>\n",
       "      <td>29</td>\n",
       "      <td>83</td>\n",
       "      <td>91</td>\n",
       "      <td>25</td>\n",
       "      <td>79</td>\n",
       "      <td>11</td>\n",
       "      <td>18</td>\n",
       "      <td>124</td>\n",
       "      <td>95</td>\n",
       "      <td>18</td>\n",
       "      <td>269</td>\n",
       "      <td>418</td>\n",
       "      <td>90</td>\n",
       "      <td>2.39</td>\n",
       "    </tr>\n",
       "    <tr>\n",
       "      <th>978</th>\n",
       "      <td>La Liga</td>\n",
       "      <td>2016-2017</td>\n",
       "      <td>1</td>\n",
       "      <td>Real Madrid</td>\n",
       "      <td>38</td>\n",
       "      <td>29</td>\n",
       "      <td>6</td>\n",
       "      <td>3</td>\n",
       "      <td>106</td>\n",
       "      <td>41</td>\n",
       "      <td>65</td>\n",
       "      <td>93</td>\n",
       "      <td>24</td>\n",
       "      <td>83</td>\n",
       "      <td>6</td>\n",
       "      <td>8</td>\n",
       "      <td>143</td>\n",
       "      <td>105</td>\n",
       "      <td>10</td>\n",
       "      <td>265</td>\n",
       "      <td>419</td>\n",
       "      <td>111</td>\n",
       "      <td>2.45</td>\n",
       "    </tr>\n",
       "    <tr>\n",
       "      <th>998</th>\n",
       "      <td>La Liga</td>\n",
       "      <td>2017-2018</td>\n",
       "      <td>1</td>\n",
       "      <td>Barcelona</td>\n",
       "      <td>38</td>\n",
       "      <td>28</td>\n",
       "      <td>9</td>\n",
       "      <td>1</td>\n",
       "      <td>99</td>\n",
       "      <td>29</td>\n",
       "      <td>70</td>\n",
       "      <td>93</td>\n",
       "      <td>25</td>\n",
       "      <td>74</td>\n",
       "      <td>3</td>\n",
       "      <td>5</td>\n",
       "      <td>136</td>\n",
       "      <td>109</td>\n",
       "      <td>19</td>\n",
       "      <td>264</td>\n",
       "      <td>418</td>\n",
       "      <td>111</td>\n",
       "      <td>2.45</td>\n",
       "    </tr>\n",
       "    <tr>\n",
       "      <th>1018</th>\n",
       "      <td>La Liga</td>\n",
       "      <td>2018-2019</td>\n",
       "      <td>1</td>\n",
       "      <td>Barcelona</td>\n",
       "      <td>38</td>\n",
       "      <td>26</td>\n",
       "      <td>9</td>\n",
       "      <td>3</td>\n",
       "      <td>90</td>\n",
       "      <td>36</td>\n",
       "      <td>54</td>\n",
       "      <td>87</td>\n",
       "      <td>30</td>\n",
       "      <td>61</td>\n",
       "      <td>8</td>\n",
       "      <td>9</td>\n",
       "      <td>129</td>\n",
       "      <td>96</td>\n",
       "      <td>17</td>\n",
       "      <td>243</td>\n",
       "      <td>418</td>\n",
       "      <td>112</td>\n",
       "      <td>2.29</td>\n",
       "    </tr>\n",
       "    <tr>\n",
       "      <th>1038</th>\n",
       "      <td>La Liga</td>\n",
       "      <td>2019-2020</td>\n",
       "      <td>1</td>\n",
       "      <td>Real Madrid</td>\n",
       "      <td>38</td>\n",
       "      <td>26</td>\n",
       "      <td>9</td>\n",
       "      <td>3</td>\n",
       "      <td>70</td>\n",
       "      <td>25</td>\n",
       "      <td>45</td>\n",
       "      <td>87</td>\n",
       "      <td>26</td>\n",
       "      <td>52</td>\n",
       "      <td>11</td>\n",
       "      <td>11</td>\n",
       "      <td>108</td>\n",
       "      <td>84</td>\n",
       "      <td>19</td>\n",
       "      <td>222</td>\n",
       "      <td>418</td>\n",
       "      <td>120</td>\n",
       "      <td>2.29</td>\n",
       "    </tr>\n",
       "    <tr>\n",
       "      <th>1058</th>\n",
       "      <td>La Liga</td>\n",
       "      <td>2020-2021</td>\n",
       "      <td>1</td>\n",
       "      <td>Atlético Madrid</td>\n",
       "      <td>38</td>\n",
       "      <td>26</td>\n",
       "      <td>8</td>\n",
       "      <td>4</td>\n",
       "      <td>67</td>\n",
       "      <td>25</td>\n",
       "      <td>42</td>\n",
       "      <td>86</td>\n",
       "      <td>25</td>\n",
       "      <td>54</td>\n",
       "      <td>5</td>\n",
       "      <td>7</td>\n",
       "      <td>120</td>\n",
       "      <td>97</td>\n",
       "      <td>18</td>\n",
       "      <td>179</td>\n",
       "      <td>418</td>\n",
       "      <td>148</td>\n",
       "      <td>2.26</td>\n",
       "    </tr>\n",
       "  </tbody>\n",
       "</table>\n",
       "</div>"
      ],
      "text/plain": [
       "     competition     season  rank            squad  games  wins  draws  \\\n",
       "858      La Liga  2010-2011     1        Barcelona     38    30      6   \n",
       "878      La Liga  2011-2012     1      Real Madrid     38    32      4   \n",
       "898      La Liga  2012-2013     1        Barcelona     38    32      4   \n",
       "918      La Liga  2013-2014     1  Atlético Madrid     38    28      6   \n",
       "938      La Liga  2014-2015     1        Barcelona     38    30      4   \n",
       "958      La Liga  2015-2016     1        Barcelona     38    29      4   \n",
       "978      La Liga  2016-2017     1      Real Madrid     38    29      6   \n",
       "998      La Liga  2017-2018     1        Barcelona     38    28      9   \n",
       "1018     La Liga  2018-2019     1        Barcelona     38    26      9   \n",
       "1038     La Liga  2019-2020     1      Real Madrid     38    26      9   \n",
       "1058     La Liga  2020-2021     1  Atlético Madrid     38    26      8   \n",
       "\n",
       "      losses  goals_for  goals_against  goal_diff  points  players_used  \\\n",
       "858        2         95             21         74      96            28   \n",
       "878        2        121             32         89     100            25   \n",
       "898        2        115             40         75     100            25   \n",
       "918        4         77             26         51      90            25   \n",
       "938        4        110             21         89      94            24   \n",
       "958        5        112             29         83      91            25   \n",
       "978        3        106             41         65      93            24   \n",
       "998        1         99             29         70      93            25   \n",
       "1018       3         90             36         54      87            30   \n",
       "1038       3         70             25         45      87            26   \n",
       "1058       4         67             25         42      86            25   \n",
       "\n",
       "      assists  pens_made  pens_att  shots_on_target_against  saves  \\\n",
       "858        73          5         5                      116     95   \n",
       "878        85         12        13                      134    102   \n",
       "898        91          4         5                      117     77   \n",
       "918        55          6        10                      100     74   \n",
       "938        79          6         7                       91     70   \n",
       "958        79         11        18                      124     95   \n",
       "978        83          6         8                      143    105   \n",
       "998        74          3         5                      136    109   \n",
       "1018       61          8         9                      129     96   \n",
       "1038       52         11        11                      108     84   \n",
       "1058       54          5         7                      120     97   \n",
       "\n",
       "      clean_sheets  shots_on_target  games_starts  games_subs  \\\n",
       "858             19              286           418         112   \n",
       "878             14              311           418         114   \n",
       "898             10              275           418         111   \n",
       "918             20              212           418         105   \n",
       "938             23              291           418         107   \n",
       "958             18              269           418          90   \n",
       "978             10              265           419         111   \n",
       "998             19              264           418         111   \n",
       "1018            17              243           418         112   \n",
       "1038            19              222           418         120   \n",
       "1058            18              179           418         148   \n",
       "\n",
       "      points_per_match  \n",
       "858               2.53  \n",
       "878               2.63  \n",
       "898               2.63  \n",
       "918               2.37  \n",
       "938               2.47  \n",
       "958               2.39  \n",
       "978               2.45  \n",
       "998               2.45  \n",
       "1018              2.29  \n",
       "1038              2.29  \n",
       "1058              2.26  "
      ]
     },
     "execution_count": 14,
     "metadata": {},
     "output_type": "execute_result"
    }
   ],
   "source": [
    "La = df[(df['competition'] == 'La Liga') & (df['rank'] == 1)]\n",
    "La"
   ]
  },
  {
   "cell_type": "code",
   "execution_count": 15,
   "metadata": {},
   "outputs": [
    {
     "data": {
      "text/plain": [
       "Text(0.5, 1.0, 'the most crowned')"
      ]
     },
     "execution_count": 15,
     "metadata": {},
     "output_type": "execute_result"
    },
    {
     "data": {
      "image/png": "[encoded data removed]",
      "text/plain": [
       "<Figure size 576x288 with 1 Axes>"
      ]
     },
     "metadata": {
      "needs_background": "light"
     },
     "output_type": "display_data"
    }
   ],
   "source": [
    "plt.figure(figsize=(8,4))\n",
    "basic_color = sns.color_palette()[0]\n",
    "la = sns.countplot( x = 'squad' , data = La , color = basic_color)\n",
    "plt.xticks(rotation = 15)\n",
    "la.set_title('the most crowned')"
   ]
  },
  {
   "cell_type": "markdown",
   "metadata": {},
   "source": [
    "- In La Liga was Barcelona the team that won the league the most six times"
   ]
  },
  {
   "cell_type": "code",
   "execution_count": 16,
   "metadata": {},
   "outputs": [
    {
     "data": {
      "text/html": [
       "<div>\n",
       "<style scoped>\n",
       "    .dataframe tbody tr th:only-of-type {\n",
       "        vertical-align: middle;\n",
       "    }\n",
       "\n",
       "    .dataframe tbody tr th {\n",
       "        vertical-align: top;\n",
       "    }\n",
       "\n",
       "    .dataframe thead th {\n",
       "        text-align: right;\n",
       "    }\n",
       "</style>\n",
       "<table border=\"1\" class=\"dataframe\">\n",
       "  <thead>\n",
       "    <tr style=\"text-align: right;\">\n",
       "      <th></th>\n",
       "      <th>competition</th>\n",
       "      <th>season</th>\n",
       "      <th>rank</th>\n",
       "      <th>squad</th>\n",
       "      <th>games</th>\n",
       "      <th>wins</th>\n",
       "      <th>draws</th>\n",
       "      <th>losses</th>\n",
       "      <th>goals_for</th>\n",
       "      <th>goals_against</th>\n",
       "      <th>goal_diff</th>\n",
       "      <th>points</th>\n",
       "      <th>players_used</th>\n",
       "      <th>assists</th>\n",
       "      <th>pens_made</th>\n",
       "      <th>pens_att</th>\n",
       "      <th>shots_on_target_against</th>\n",
       "      <th>saves</th>\n",
       "      <th>clean_sheets</th>\n",
       "      <th>shots_on_target</th>\n",
       "      <th>games_starts</th>\n",
       "      <th>games_subs</th>\n",
       "      <th>points_per_match</th>\n",
       "    </tr>\n",
       "  </thead>\n",
       "  <tbody>\n",
       "    <tr>\n",
       "      <th>220</th>\n",
       "      <td>Ligue 1</td>\n",
       "      <td>2010-2011</td>\n",
       "      <td>1</td>\n",
       "      <td>Lille</td>\n",
       "      <td>38</td>\n",
       "      <td>21</td>\n",
       "      <td>13</td>\n",
       "      <td>4</td>\n",
       "      <td>68</td>\n",
       "      <td>36</td>\n",
       "      <td>32</td>\n",
       "      <td>76</td>\n",
       "      <td>22</td>\n",
       "      <td>45</td>\n",
       "      <td>2</td>\n",
       "      <td>4</td>\n",
       "      <td>142</td>\n",
       "      <td>106</td>\n",
       "      <td>11</td>\n",
       "      <td>206</td>\n",
       "      <td>418</td>\n",
       "      <td>110</td>\n",
       "      <td>2.00</td>\n",
       "    </tr>\n",
       "    <tr>\n",
       "      <th>240</th>\n",
       "      <td>Ligue 1</td>\n",
       "      <td>2011-2012</td>\n",
       "      <td>1</td>\n",
       "      <td>Montpellier</td>\n",
       "      <td>38</td>\n",
       "      <td>25</td>\n",
       "      <td>7</td>\n",
       "      <td>6</td>\n",
       "      <td>68</td>\n",
       "      <td>34</td>\n",
       "      <td>34</td>\n",
       "      <td>82</td>\n",
       "      <td>23</td>\n",
       "      <td>36</td>\n",
       "      <td>7</td>\n",
       "      <td>10</td>\n",
       "      <td>129</td>\n",
       "      <td>95</td>\n",
       "      <td>17</td>\n",
       "      <td>245</td>\n",
       "      <td>418</td>\n",
       "      <td>102</td>\n",
       "      <td>2.16</td>\n",
       "    </tr>\n",
       "    <tr>\n",
       "      <th>260</th>\n",
       "      <td>Ligue 1</td>\n",
       "      <td>2012-2013</td>\n",
       "      <td>1</td>\n",
       "      <td>Paris S-G</td>\n",
       "      <td>38</td>\n",
       "      <td>25</td>\n",
       "      <td>8</td>\n",
       "      <td>5</td>\n",
       "      <td>69</td>\n",
       "      <td>23</td>\n",
       "      <td>46</td>\n",
       "      <td>83</td>\n",
       "      <td>31</td>\n",
       "      <td>48</td>\n",
       "      <td>4</td>\n",
       "      <td>4</td>\n",
       "      <td>123</td>\n",
       "      <td>101</td>\n",
       "      <td>23</td>\n",
       "      <td>244</td>\n",
       "      <td>418</td>\n",
       "      <td>108</td>\n",
       "      <td>2.18</td>\n",
       "    </tr>\n",
       "    <tr>\n",
       "      <th>280</th>\n",
       "      <td>Ligue 1</td>\n",
       "      <td>2013-2014</td>\n",
       "      <td>1</td>\n",
       "      <td>Paris S-G</td>\n",
       "      <td>38</td>\n",
       "      <td>27</td>\n",
       "      <td>8</td>\n",
       "      <td>3</td>\n",
       "      <td>84</td>\n",
       "      <td>23</td>\n",
       "      <td>61</td>\n",
       "      <td>89</td>\n",
       "      <td>23</td>\n",
       "      <td>46</td>\n",
       "      <td>9</td>\n",
       "      <td>10</td>\n",
       "      <td>108</td>\n",
       "      <td>85</td>\n",
       "      <td>20</td>\n",
       "      <td>232</td>\n",
       "      <td>418</td>\n",
       "      <td>104</td>\n",
       "      <td>2.34</td>\n",
       "    </tr>\n",
       "    <tr>\n",
       "      <th>300</th>\n",
       "      <td>Ligue 1</td>\n",
       "      <td>2014-2015</td>\n",
       "      <td>1</td>\n",
       "      <td>Paris S-G</td>\n",
       "      <td>38</td>\n",
       "      <td>24</td>\n",
       "      <td>11</td>\n",
       "      <td>3</td>\n",
       "      <td>83</td>\n",
       "      <td>36</td>\n",
       "      <td>47</td>\n",
       "      <td>83</td>\n",
       "      <td>23</td>\n",
       "      <td>55</td>\n",
       "      <td>13</td>\n",
       "      <td>14</td>\n",
       "      <td>114</td>\n",
       "      <td>78</td>\n",
       "      <td>13</td>\n",
       "      <td>223</td>\n",
       "      <td>418</td>\n",
       "      <td>101</td>\n",
       "      <td>2.18</td>\n",
       "    </tr>\n",
       "    <tr>\n",
       "      <th>320</th>\n",
       "      <td>Ligue 1</td>\n",
       "      <td>2015-2016</td>\n",
       "      <td>1</td>\n",
       "      <td>Paris S-G</td>\n",
       "      <td>38</td>\n",
       "      <td>30</td>\n",
       "      <td>6</td>\n",
       "      <td>2</td>\n",
       "      <td>102</td>\n",
       "      <td>19</td>\n",
       "      <td>83</td>\n",
       "      <td>96</td>\n",
       "      <td>28</td>\n",
       "      <td>72</td>\n",
       "      <td>6</td>\n",
       "      <td>8</td>\n",
       "      <td>114</td>\n",
       "      <td>95</td>\n",
       "      <td>22</td>\n",
       "      <td>249</td>\n",
       "      <td>418</td>\n",
       "      <td>111</td>\n",
       "      <td>2.53</td>\n",
       "    </tr>\n",
       "    <tr>\n",
       "      <th>340</th>\n",
       "      <td>Ligue 1</td>\n",
       "      <td>2016-2017</td>\n",
       "      <td>1</td>\n",
       "      <td>Monaco</td>\n",
       "      <td>38</td>\n",
       "      <td>30</td>\n",
       "      <td>5</td>\n",
       "      <td>3</td>\n",
       "      <td>107</td>\n",
       "      <td>31</td>\n",
       "      <td>76</td>\n",
       "      <td>95</td>\n",
       "      <td>29</td>\n",
       "      <td>62</td>\n",
       "      <td>11</td>\n",
       "      <td>11</td>\n",
       "      <td>118</td>\n",
       "      <td>89</td>\n",
       "      <td>17</td>\n",
       "      <td>249</td>\n",
       "      <td>418</td>\n",
       "      <td>112</td>\n",
       "      <td>2.50</td>\n",
       "    </tr>\n",
       "    <tr>\n",
       "      <th>360</th>\n",
       "      <td>Ligue 1</td>\n",
       "      <td>2017-2018</td>\n",
       "      <td>1</td>\n",
       "      <td>Paris S-G</td>\n",
       "      <td>38</td>\n",
       "      <td>29</td>\n",
       "      <td>6</td>\n",
       "      <td>3</td>\n",
       "      <td>108</td>\n",
       "      <td>29</td>\n",
       "      <td>79</td>\n",
       "      <td>93</td>\n",
       "      <td>26</td>\n",
       "      <td>69</td>\n",
       "      <td>7</td>\n",
       "      <td>9</td>\n",
       "      <td>122</td>\n",
       "      <td>96</td>\n",
       "      <td>18</td>\n",
       "      <td>249</td>\n",
       "      <td>418</td>\n",
       "      <td>103</td>\n",
       "      <td>2.45</td>\n",
       "    </tr>\n",
       "    <tr>\n",
       "      <th>380</th>\n",
       "      <td>Ligue 1</td>\n",
       "      <td>2018-2019</td>\n",
       "      <td>1</td>\n",
       "      <td>Paris S-G</td>\n",
       "      <td>38</td>\n",
       "      <td>29</td>\n",
       "      <td>4</td>\n",
       "      <td>5</td>\n",
       "      <td>105</td>\n",
       "      <td>35</td>\n",
       "      <td>70</td>\n",
       "      <td>91</td>\n",
       "      <td>30</td>\n",
       "      <td>72</td>\n",
       "      <td>10</td>\n",
       "      <td>12</td>\n",
       "      <td>124</td>\n",
       "      <td>98</td>\n",
       "      <td>17</td>\n",
       "      <td>200</td>\n",
       "      <td>418</td>\n",
       "      <td>109</td>\n",
       "      <td>2.39</td>\n",
       "    </tr>\n",
       "    <tr>\n",
       "      <th>400</th>\n",
       "      <td>Ligue 1</td>\n",
       "      <td>2019-2020</td>\n",
       "      <td>1</td>\n",
       "      <td>Paris S-G</td>\n",
       "      <td>27</td>\n",
       "      <td>22</td>\n",
       "      <td>2</td>\n",
       "      <td>3</td>\n",
       "      <td>75</td>\n",
       "      <td>24</td>\n",
       "      <td>51</td>\n",
       "      <td>68</td>\n",
       "      <td>31</td>\n",
       "      <td>51</td>\n",
       "      <td>6</td>\n",
       "      <td>8</td>\n",
       "      <td>82</td>\n",
       "      <td>57</td>\n",
       "      <td>14</td>\n",
       "      <td>185</td>\n",
       "      <td>297</td>\n",
       "      <td>79</td>\n",
       "      <td>2.52</td>\n",
       "    </tr>\n",
       "    <tr>\n",
       "      <th>420</th>\n",
       "      <td>Ligue 1</td>\n",
       "      <td>2020-2021</td>\n",
       "      <td>1</td>\n",
       "      <td>Lille</td>\n",
       "      <td>38</td>\n",
       "      <td>24</td>\n",
       "      <td>11</td>\n",
       "      <td>3</td>\n",
       "      <td>64</td>\n",
       "      <td>23</td>\n",
       "      <td>41</td>\n",
       "      <td>83</td>\n",
       "      <td>21</td>\n",
       "      <td>39</td>\n",
       "      <td>5</td>\n",
       "      <td>5</td>\n",
       "      <td>107</td>\n",
       "      <td>86</td>\n",
       "      <td>21</td>\n",
       "      <td>174</td>\n",
       "      <td>418</td>\n",
       "      <td>169</td>\n",
       "      <td>2.18</td>\n",
       "    </tr>\n",
       "  </tbody>\n",
       "</table>\n",
       "</div>"
      ],
      "text/plain": [
       "    competition     season  rank        squad  games  wins  draws  losses  \\\n",
       "220     Ligue 1  2010-2011     1        Lille     38    21     13       4   \n",
       "240     Ligue 1  2011-2012     1  Montpellier     38    25      7       6   \n",
       "260     Ligue 1  2012-2013     1    Paris S-G     38    25      8       5   \n",
       "280     Ligue 1  2013-2014     1    Paris S-G     38    27      8       3   \n",
       "300     Ligue 1  2014-2015     1    Paris S-G     38    24     11       3   \n",
       "320     Ligue 1  2015-2016     1    Paris S-G     38    30      6       2   \n",
       "340     Ligue 1  2016-2017     1       Monaco     38    30      5       3   \n",
       "360     Ligue 1  2017-2018     1    Paris S-G     38    29      6       3   \n",
       "380     Ligue 1  2018-2019     1    Paris S-G     38    29      4       5   \n",
       "400     Ligue 1  2019-2020     1    Paris S-G     27    22      2       3   \n",
       "420     Ligue 1  2020-2021     1        Lille     38    24     11       3   \n",
       "\n",
       "     goals_for  goals_against  goal_diff  points  players_used  assists  \\\n",
       "220         68             36         32      76            22       45   \n",
       "240         68             34         34      82            23       36   \n",
       "260         69             23         46      83            31       48   \n",
       "280         84             23         61      89            23       46   \n",
       "300         83             36         47      83            23       55   \n",
       "320        102             19         83      96            28       72   \n",
       "340        107             31         76      95            29       62   \n",
       "360        108             29         79      93            26       69   \n",
       "380        105             35         70      91            30       72   \n",
       "400         75             24         51      68            31       51   \n",
       "420         64             23         41      83            21       39   \n",
       "\n",
       "     pens_made  pens_att  shots_on_target_against  saves  clean_sheets  \\\n",
       "220          2         4                      142    106            11   \n",
       "240          7        10                      129     95            17   \n",
       "260          4         4                      123    101            23   \n",
       "280          9        10                      108     85            20   \n",
       "300         13        14                      114     78            13   \n",
       "320          6         8                      114     95            22   \n",
       "340         11        11                      118     89            17   \n",
       "360          7         9                      122     96            18   \n",
       "380         10        12                      124     98            17   \n",
       "400          6         8                       82     57            14   \n",
       "420          5         5                      107     86            21   \n",
       "\n",
       "     shots_on_target  games_starts  games_subs  points_per_match  \n",
       "220              206           418         110              2.00  \n",
       "240              245           418         102              2.16  \n",
       "260              244           418         108              2.18  \n",
       "280              232           418         104              2.34  \n",
       "300              223           418         101              2.18  \n",
       "320              249           418         111              2.53  \n",
       "340              249           418         112              2.50  \n",
       "360              249           418         103              2.45  \n",
       "380              200           418         109              2.39  \n",
       "400              185           297          79              2.52  \n",
       "420              174           418         169              2.18  "
      ]
     },
     "execution_count": 16,
     "metadata": {},
     "output_type": "execute_result"
    }
   ],
   "source": [
    "L1 = df[(df['competition'] == 'Ligue 1') & (df['rank'] == 1)]\n",
    "L1"
   ]
  },
  {
   "cell_type": "code",
   "execution_count": 17,
   "metadata": {},
   "outputs": [
    {
     "data": {
      "text/plain": [
       "Text(0.5, 1.0, 'the most crowned')"
      ]
     },
     "execution_count": 17,
     "metadata": {},
     "output_type": "execute_result"
    },
    {
     "data": {
      "image/png": "[encoded data removed]",
      "text/plain": [
       "<Figure size 576x288 with 1 Axes>"
      ]
     },
     "metadata": {
      "needs_background": "light"
     },
     "output_type": "display_data"
    }
   ],
   "source": [
    "plt.figure(figsize=(8,4))\n",
    "basic_color = sns.color_palette()[0]\n",
    "l1 = sns.countplot( x = 'squad' , data = L1 , color = basic_color)\n",
    "plt.xticks(rotation = 15)\n",
    "l1.set_title('the most crowned')"
   ]
  },
  {
   "cell_type": "markdown",
   "metadata": {},
   "source": [
    "- In Ligue 1 was Paris the team that won the league the most seven times"
   ]
  },
  {
   "cell_type": "code",
   "execution_count": 18,
   "metadata": {},
   "outputs": [
    {
     "data": {
      "text/html": [
       "<div>\n",
       "<style scoped>\n",
       "    .dataframe tbody tr th:only-of-type {\n",
       "        vertical-align: middle;\n",
       "    }\n",
       "\n",
       "    .dataframe tbody tr th {\n",
       "        vertical-align: top;\n",
       "    }\n",
       "\n",
       "    .dataframe thead th {\n",
       "        text-align: right;\n",
       "    }\n",
       "</style>\n",
       "<table border=\"1\" class=\"dataframe\">\n",
       "  <thead>\n",
       "    <tr style=\"text-align: right;\">\n",
       "      <th></th>\n",
       "      <th>competition</th>\n",
       "      <th>season</th>\n",
       "      <th>rank</th>\n",
       "      <th>squad</th>\n",
       "      <th>games</th>\n",
       "      <th>wins</th>\n",
       "      <th>draws</th>\n",
       "      <th>losses</th>\n",
       "      <th>goals_for</th>\n",
       "      <th>goals_against</th>\n",
       "      <th>goal_diff</th>\n",
       "      <th>points</th>\n",
       "      <th>players_used</th>\n",
       "      <th>assists</th>\n",
       "      <th>pens_made</th>\n",
       "      <th>pens_att</th>\n",
       "      <th>shots_on_target_against</th>\n",
       "      <th>saves</th>\n",
       "      <th>clean_sheets</th>\n",
       "      <th>shots_on_target</th>\n",
       "      <th>games_starts</th>\n",
       "      <th>games_subs</th>\n",
       "      <th>points_per_match</th>\n",
       "    </tr>\n",
       "  </thead>\n",
       "  <tbody>\n",
       "    <tr>\n",
       "      <th>638</th>\n",
       "      <td>Serie A</td>\n",
       "      <td>2010-2011</td>\n",
       "      <td>1</td>\n",
       "      <td>Milan</td>\n",
       "      <td>38</td>\n",
       "      <td>24</td>\n",
       "      <td>10</td>\n",
       "      <td>4</td>\n",
       "      <td>65</td>\n",
       "      <td>24</td>\n",
       "      <td>41</td>\n",
       "      <td>82</td>\n",
       "      <td>34</td>\n",
       "      <td>47</td>\n",
       "      <td>5</td>\n",
       "      <td>6</td>\n",
       "      <td>135</td>\n",
       "      <td>111</td>\n",
       "      <td>20</td>\n",
       "      <td>234</td>\n",
       "      <td>418</td>\n",
       "      <td>96</td>\n",
       "      <td>2.16</td>\n",
       "    </tr>\n",
       "    <tr>\n",
       "      <th>658</th>\n",
       "      <td>Serie A</td>\n",
       "      <td>2011-2012</td>\n",
       "      <td>1</td>\n",
       "      <td>Juventus</td>\n",
       "      <td>38</td>\n",
       "      <td>23</td>\n",
       "      <td>15</td>\n",
       "      <td>0</td>\n",
       "      <td>68</td>\n",
       "      <td>20</td>\n",
       "      <td>48</td>\n",
       "      <td>84</td>\n",
       "      <td>25</td>\n",
       "      <td>45</td>\n",
       "      <td>2</td>\n",
       "      <td>4</td>\n",
       "      <td>106</td>\n",
       "      <td>86</td>\n",
       "      <td>21</td>\n",
       "      <td>264</td>\n",
       "      <td>418</td>\n",
       "      <td>114</td>\n",
       "      <td>2.21</td>\n",
       "    </tr>\n",
       "    <tr>\n",
       "      <th>678</th>\n",
       "      <td>Serie A</td>\n",
       "      <td>2012-2013</td>\n",
       "      <td>1</td>\n",
       "      <td>Juventus</td>\n",
       "      <td>38</td>\n",
       "      <td>27</td>\n",
       "      <td>6</td>\n",
       "      <td>5</td>\n",
       "      <td>71</td>\n",
       "      <td>24</td>\n",
       "      <td>47</td>\n",
       "      <td>87</td>\n",
       "      <td>28</td>\n",
       "      <td>49</td>\n",
       "      <td>8</td>\n",
       "      <td>11</td>\n",
       "      <td>110</td>\n",
       "      <td>86</td>\n",
       "      <td>19</td>\n",
       "      <td>265</td>\n",
       "      <td>418</td>\n",
       "      <td>113</td>\n",
       "      <td>2.29</td>\n",
       "    </tr>\n",
       "    <tr>\n",
       "      <th>698</th>\n",
       "      <td>Serie A</td>\n",
       "      <td>2013-2014</td>\n",
       "      <td>1</td>\n",
       "      <td>Juventus</td>\n",
       "      <td>38</td>\n",
       "      <td>33</td>\n",
       "      <td>3</td>\n",
       "      <td>2</td>\n",
       "      <td>80</td>\n",
       "      <td>23</td>\n",
       "      <td>57</td>\n",
       "      <td>102</td>\n",
       "      <td>26</td>\n",
       "      <td>54</td>\n",
       "      <td>4</td>\n",
       "      <td>4</td>\n",
       "      <td>123</td>\n",
       "      <td>100</td>\n",
       "      <td>22</td>\n",
       "      <td>243</td>\n",
       "      <td>418</td>\n",
       "      <td>110</td>\n",
       "      <td>2.68</td>\n",
       "    </tr>\n",
       "    <tr>\n",
       "      <th>718</th>\n",
       "      <td>Serie A</td>\n",
       "      <td>2014-2015</td>\n",
       "      <td>1</td>\n",
       "      <td>Juventus</td>\n",
       "      <td>38</td>\n",
       "      <td>26</td>\n",
       "      <td>9</td>\n",
       "      <td>3</td>\n",
       "      <td>72</td>\n",
       "      <td>24</td>\n",
       "      <td>48</td>\n",
       "      <td>87</td>\n",
       "      <td>28</td>\n",
       "      <td>44</td>\n",
       "      <td>6</td>\n",
       "      <td>9</td>\n",
       "      <td>103</td>\n",
       "      <td>79</td>\n",
       "      <td>19</td>\n",
       "      <td>221</td>\n",
       "      <td>418</td>\n",
       "      <td>108</td>\n",
       "      <td>2.29</td>\n",
       "    </tr>\n",
       "    <tr>\n",
       "      <th>738</th>\n",
       "      <td>Serie A</td>\n",
       "      <td>2015-2016</td>\n",
       "      <td>1</td>\n",
       "      <td>Juventus</td>\n",
       "      <td>38</td>\n",
       "      <td>29</td>\n",
       "      <td>4</td>\n",
       "      <td>5</td>\n",
       "      <td>75</td>\n",
       "      <td>20</td>\n",
       "      <td>55</td>\n",
       "      <td>91</td>\n",
       "      <td>28</td>\n",
       "      <td>54</td>\n",
       "      <td>9</td>\n",
       "      <td>9</td>\n",
       "      <td>94</td>\n",
       "      <td>74</td>\n",
       "      <td>22</td>\n",
       "      <td>213</td>\n",
       "      <td>418</td>\n",
       "      <td>111</td>\n",
       "      <td>2.39</td>\n",
       "    </tr>\n",
       "    <tr>\n",
       "      <th>758</th>\n",
       "      <td>Serie A</td>\n",
       "      <td>2016-2017</td>\n",
       "      <td>1</td>\n",
       "      <td>Juventus</td>\n",
       "      <td>38</td>\n",
       "      <td>29</td>\n",
       "      <td>4</td>\n",
       "      <td>5</td>\n",
       "      <td>77</td>\n",
       "      <td>27</td>\n",
       "      <td>50</td>\n",
       "      <td>91</td>\n",
       "      <td>27</td>\n",
       "      <td>49</td>\n",
       "      <td>3</td>\n",
       "      <td>3</td>\n",
       "      <td>108</td>\n",
       "      <td>81</td>\n",
       "      <td>18</td>\n",
       "      <td>211</td>\n",
       "      <td>418</td>\n",
       "      <td>113</td>\n",
       "      <td>2.39</td>\n",
       "    </tr>\n",
       "    <tr>\n",
       "      <th>778</th>\n",
       "      <td>Serie A</td>\n",
       "      <td>2017-2018</td>\n",
       "      <td>1</td>\n",
       "      <td>Juventus</td>\n",
       "      <td>38</td>\n",
       "      <td>30</td>\n",
       "      <td>5</td>\n",
       "      <td>3</td>\n",
       "      <td>86</td>\n",
       "      <td>24</td>\n",
       "      <td>62</td>\n",
       "      <td>95</td>\n",
       "      <td>24</td>\n",
       "      <td>39</td>\n",
       "      <td>4</td>\n",
       "      <td>8</td>\n",
       "      <td>94</td>\n",
       "      <td>73</td>\n",
       "      <td>22</td>\n",
       "      <td>201</td>\n",
       "      <td>418</td>\n",
       "      <td>111</td>\n",
       "      <td>2.50</td>\n",
       "    </tr>\n",
       "    <tr>\n",
       "      <th>798</th>\n",
       "      <td>Serie A</td>\n",
       "      <td>2018-2019</td>\n",
       "      <td>1</td>\n",
       "      <td>Juventus</td>\n",
       "      <td>38</td>\n",
       "      <td>28</td>\n",
       "      <td>6</td>\n",
       "      <td>4</td>\n",
       "      <td>70</td>\n",
       "      <td>30</td>\n",
       "      <td>40</td>\n",
       "      <td>90</td>\n",
       "      <td>31</td>\n",
       "      <td>44</td>\n",
       "      <td>7</td>\n",
       "      <td>8</td>\n",
       "      <td>107</td>\n",
       "      <td>79</td>\n",
       "      <td>16</td>\n",
       "      <td>193</td>\n",
       "      <td>418</td>\n",
       "      <td>102</td>\n",
       "      <td>2.37</td>\n",
       "    </tr>\n",
       "    <tr>\n",
       "      <th>818</th>\n",
       "      <td>Serie A</td>\n",
       "      <td>2019-2020</td>\n",
       "      <td>1</td>\n",
       "      <td>Juventus</td>\n",
       "      <td>38</td>\n",
       "      <td>26</td>\n",
       "      <td>5</td>\n",
       "      <td>7</td>\n",
       "      <td>76</td>\n",
       "      <td>43</td>\n",
       "      <td>33</td>\n",
       "      <td>83</td>\n",
       "      <td>30</td>\n",
       "      <td>47</td>\n",
       "      <td>13</td>\n",
       "      <td>14</td>\n",
       "      <td>152</td>\n",
       "      <td>118</td>\n",
       "      <td>12</td>\n",
       "      <td>222</td>\n",
       "      <td>418</td>\n",
       "      <td>127</td>\n",
       "      <td>2.18</td>\n",
       "    </tr>\n",
       "    <tr>\n",
       "      <th>838</th>\n",
       "      <td>Serie A</td>\n",
       "      <td>2020-2021</td>\n",
       "      <td>1</td>\n",
       "      <td>Inter</td>\n",
       "      <td>38</td>\n",
       "      <td>28</td>\n",
       "      <td>7</td>\n",
       "      <td>3</td>\n",
       "      <td>89</td>\n",
       "      <td>35</td>\n",
       "      <td>54</td>\n",
       "      <td>91</td>\n",
       "      <td>25</td>\n",
       "      <td>62</td>\n",
       "      <td>8</td>\n",
       "      <td>9</td>\n",
       "      <td>112</td>\n",
       "      <td>82</td>\n",
       "      <td>14</td>\n",
       "      <td>197</td>\n",
       "      <td>418</td>\n",
       "      <td>162</td>\n",
       "      <td>2.39</td>\n",
       "    </tr>\n",
       "  </tbody>\n",
       "</table>\n",
       "</div>"
      ],
      "text/plain": [
       "    competition     season  rank     squad  games  wins  draws  losses  \\\n",
       "638     Serie A  2010-2011     1     Milan     38    24     10       4   \n",
       "658     Serie A  2011-2012     1  Juventus     38    23     15       0   \n",
       "678     Serie A  2012-2013     1  Juventus     38    27      6       5   \n",
       "698     Serie A  2013-2014     1  Juventus     38    33      3       2   \n",
       "718     Serie A  2014-2015     1  Juventus     38    26      9       3   \n",
       "738     Serie A  2015-2016     1  Juventus     38    29      4       5   \n",
       "758     Serie A  2016-2017     1  Juventus     38    29      4       5   \n",
       "778     Serie A  2017-2018     1  Juventus     38    30      5       3   \n",
       "798     Serie A  2018-2019     1  Juventus     38    28      6       4   \n",
       "818     Serie A  2019-2020     1  Juventus     38    26      5       7   \n",
       "838     Serie A  2020-2021     1     Inter     38    28      7       3   \n",
       "\n",
       "     goals_for  goals_against  goal_diff  points  players_used  assists  \\\n",
       "638         65             24         41      82            34       47   \n",
       "658         68             20         48      84            25       45   \n",
       "678         71             24         47      87            28       49   \n",
       "698         80             23         57     102            26       54   \n",
       "718         72             24         48      87            28       44   \n",
       "738         75             20         55      91            28       54   \n",
       "758         77             27         50      91            27       49   \n",
       "778         86             24         62      95            24       39   \n",
       "798         70             30         40      90            31       44   \n",
       "818         76             43         33      83            30       47   \n",
       "838         89             35         54      91            25       62   \n",
       "\n",
       "     pens_made  pens_att  shots_on_target_against  saves  clean_sheets  \\\n",
       "638          5         6                      135    111            20   \n",
       "658          2         4                      106     86            21   \n",
       "678          8        11                      110     86            19   \n",
       "698          4         4                      123    100            22   \n",
       "718          6         9                      103     79            19   \n",
       "738          9         9                       94     74            22   \n",
       "758          3         3                      108     81            18   \n",
       "778          4         8                       94     73            22   \n",
       "798          7         8                      107     79            16   \n",
       "818         13        14                      152    118            12   \n",
       "838          8         9                      112     82            14   \n",
       "\n",
       "     shots_on_target  games_starts  games_subs  points_per_match  \n",
       "638              234           418          96              2.16  \n",
       "658              264           418         114              2.21  \n",
       "678              265           418         113              2.29  \n",
       "698              243           418         110              2.68  \n",
       "718              221           418         108              2.29  \n",
       "738              213           418         111              2.39  \n",
       "758              211           418         113              2.39  \n",
       "778              201           418         111              2.50  \n",
       "798              193           418         102              2.37  \n",
       "818              222           418         127              2.18  \n",
       "838              197           418         162              2.39  "
      ]
     },
     "execution_count": 18,
     "metadata": {},
     "output_type": "execute_result"
    }
   ],
   "source": [
    "A = df[(df['competition'] == 'Serie A') & (df['rank'] == 1)]\n",
    "A"
   ]
  },
  {
   "cell_type": "code",
   "execution_count": 19,
   "metadata": {},
   "outputs": [
    {
     "data": {
      "text/plain": [
       "Text(0.5, 1.0, 'the most crowned')"
      ]
     },
     "execution_count": 19,
     "metadata": {},
     "output_type": "execute_result"
    },
    {
     "data": {
      "image/png": "[encoded data removed]",
      "text/plain": [
       "<Figure size 576x288 with 1 Axes>"
      ]
     },
     "metadata": {
      "needs_background": "light"
     },
     "output_type": "display_data"
    }
   ],
   "source": [
    "plt.figure(figsize=(8,4))\n",
    "basic_color = sns.color_palette()[0]\n",
    "a = sns.countplot( x = 'squad' , data = A , color = basic_color)\n",
    "plt.xticks(rotation = 15)\n",
    "a.set_title('the most crowned')"
   ]
  },
  {
   "cell_type": "markdown",
   "metadata": {},
   "source": [
    "- In Serie A was Juventus the team that won the league the most nine times"
   ]
  },
  {
   "cell_type": "code",
   "execution_count": 20,
   "metadata": {},
   "outputs": [
    {
     "data": {
      "text/html": [
       "<div>\n",
       "<style scoped>\n",
       "    .dataframe tbody tr th:only-of-type {\n",
       "        vertical-align: middle;\n",
       "    }\n",
       "\n",
       "    .dataframe tbody tr th {\n",
       "        vertical-align: top;\n",
       "    }\n",
       "\n",
       "    .dataframe thead th {\n",
       "        text-align: right;\n",
       "    }\n",
       "</style>\n",
       "<table border=\"1\" class=\"dataframe\">\n",
       "  <thead>\n",
       "    <tr style=\"text-align: right;\">\n",
       "      <th></th>\n",
       "      <th>competition</th>\n",
       "      <th>season</th>\n",
       "      <th>rank</th>\n",
       "      <th>squad</th>\n",
       "      <th>games</th>\n",
       "      <th>wins</th>\n",
       "      <th>draws</th>\n",
       "      <th>losses</th>\n",
       "      <th>goals_for</th>\n",
       "      <th>goals_against</th>\n",
       "      <th>goal_diff</th>\n",
       "      <th>points</th>\n",
       "      <th>players_used</th>\n",
       "      <th>assists</th>\n",
       "      <th>pens_made</th>\n",
       "      <th>pens_att</th>\n",
       "      <th>shots_on_target_against</th>\n",
       "      <th>saves</th>\n",
       "      <th>clean_sheets</th>\n",
       "      <th>shots_on_target</th>\n",
       "      <th>games_starts</th>\n",
       "      <th>games_subs</th>\n",
       "      <th>points_per_match</th>\n",
       "    </tr>\n",
       "  </thead>\n",
       "  <tbody>\n",
       "    <tr>\n",
       "      <th>440</th>\n",
       "      <td>Fußball-Bundesliga</td>\n",
       "      <td>2010-2011</td>\n",
       "      <td>1</td>\n",
       "      <td>Dortmund</td>\n",
       "      <td>34</td>\n",
       "      <td>23</td>\n",
       "      <td>6</td>\n",
       "      <td>5</td>\n",
       "      <td>67</td>\n",
       "      <td>22</td>\n",
       "      <td>45</td>\n",
       "      <td>75</td>\n",
       "      <td>23</td>\n",
       "      <td>42</td>\n",
       "      <td>0</td>\n",
       "      <td>3</td>\n",
       "      <td>125</td>\n",
       "      <td>103</td>\n",
       "      <td>14</td>\n",
       "      <td>229</td>\n",
       "      <td>374</td>\n",
       "      <td>100</td>\n",
       "      <td>2.21</td>\n",
       "    </tr>\n",
       "    <tr>\n",
       "      <th>458</th>\n",
       "      <td>Fußball-Bundesliga</td>\n",
       "      <td>2011-2012</td>\n",
       "      <td>1</td>\n",
       "      <td>Dortmund</td>\n",
       "      <td>34</td>\n",
       "      <td>25</td>\n",
       "      <td>6</td>\n",
       "      <td>3</td>\n",
       "      <td>80</td>\n",
       "      <td>25</td>\n",
       "      <td>55</td>\n",
       "      <td>81</td>\n",
       "      <td>23</td>\n",
       "      <td>58</td>\n",
       "      <td>1</td>\n",
       "      <td>1</td>\n",
       "      <td>108</td>\n",
       "      <td>83</td>\n",
       "      <td>15</td>\n",
       "      <td>214</td>\n",
       "      <td>374</td>\n",
       "      <td>100</td>\n",
       "      <td>2.38</td>\n",
       "    </tr>\n",
       "    <tr>\n",
       "      <th>476</th>\n",
       "      <td>Fußball-Bundesliga</td>\n",
       "      <td>2012-2013</td>\n",
       "      <td>1</td>\n",
       "      <td>Bayern Munich</td>\n",
       "      <td>34</td>\n",
       "      <td>29</td>\n",
       "      <td>4</td>\n",
       "      <td>1</td>\n",
       "      <td>98</td>\n",
       "      <td>18</td>\n",
       "      <td>80</td>\n",
       "      <td>91</td>\n",
       "      <td>24</td>\n",
       "      <td>79</td>\n",
       "      <td>4</td>\n",
       "      <td>5</td>\n",
       "      <td>98</td>\n",
       "      <td>80</td>\n",
       "      <td>21</td>\n",
       "      <td>264</td>\n",
       "      <td>374</td>\n",
       "      <td>94</td>\n",
       "      <td>2.68</td>\n",
       "    </tr>\n",
       "    <tr>\n",
       "      <th>494</th>\n",
       "      <td>Fußball-Bundesliga</td>\n",
       "      <td>2013-2014</td>\n",
       "      <td>1</td>\n",
       "      <td>Bayern Munich</td>\n",
       "      <td>34</td>\n",
       "      <td>29</td>\n",
       "      <td>3</td>\n",
       "      <td>2</td>\n",
       "      <td>94</td>\n",
       "      <td>23</td>\n",
       "      <td>71</td>\n",
       "      <td>90</td>\n",
       "      <td>25</td>\n",
       "      <td>74</td>\n",
       "      <td>5</td>\n",
       "      <td>7</td>\n",
       "      <td>116</td>\n",
       "      <td>93</td>\n",
       "      <td>17</td>\n",
       "      <td>290</td>\n",
       "      <td>374</td>\n",
       "      <td>97</td>\n",
       "      <td>2.65</td>\n",
       "    </tr>\n",
       "    <tr>\n",
       "      <th>512</th>\n",
       "      <td>Fußball-Bundesliga</td>\n",
       "      <td>2014-2015</td>\n",
       "      <td>1</td>\n",
       "      <td>Bayern Munich</td>\n",
       "      <td>34</td>\n",
       "      <td>25</td>\n",
       "      <td>4</td>\n",
       "      <td>5</td>\n",
       "      <td>80</td>\n",
       "      <td>18</td>\n",
       "      <td>62</td>\n",
       "      <td>79</td>\n",
       "      <td>28</td>\n",
       "      <td>49</td>\n",
       "      <td>6</td>\n",
       "      <td>6</td>\n",
       "      <td>99</td>\n",
       "      <td>81</td>\n",
       "      <td>22</td>\n",
       "      <td>251</td>\n",
       "      <td>374</td>\n",
       "      <td>98</td>\n",
       "      <td>2.32</td>\n",
       "    </tr>\n",
       "    <tr>\n",
       "      <th>530</th>\n",
       "      <td>Fußball-Bundesliga</td>\n",
       "      <td>2015-2016</td>\n",
       "      <td>1</td>\n",
       "      <td>Bayern Munich</td>\n",
       "      <td>34</td>\n",
       "      <td>28</td>\n",
       "      <td>4</td>\n",
       "      <td>2</td>\n",
       "      <td>80</td>\n",
       "      <td>17</td>\n",
       "      <td>63</td>\n",
       "      <td>88</td>\n",
       "      <td>25</td>\n",
       "      <td>54</td>\n",
       "      <td>8</td>\n",
       "      <td>9</td>\n",
       "      <td>84</td>\n",
       "      <td>67</td>\n",
       "      <td>20</td>\n",
       "      <td>261</td>\n",
       "      <td>374</td>\n",
       "      <td>95</td>\n",
       "      <td>2.59</td>\n",
       "    </tr>\n",
       "    <tr>\n",
       "      <th>548</th>\n",
       "      <td>Fußball-Bundesliga</td>\n",
       "      <td>2016-2017</td>\n",
       "      <td>1</td>\n",
       "      <td>Bayern Munich</td>\n",
       "      <td>34</td>\n",
       "      <td>25</td>\n",
       "      <td>7</td>\n",
       "      <td>2</td>\n",
       "      <td>89</td>\n",
       "      <td>22</td>\n",
       "      <td>67</td>\n",
       "      <td>82</td>\n",
       "      <td>22</td>\n",
       "      <td>64</td>\n",
       "      <td>5</td>\n",
       "      <td>5</td>\n",
       "      <td>100</td>\n",
       "      <td>78</td>\n",
       "      <td>17</td>\n",
       "      <td>230</td>\n",
       "      <td>374</td>\n",
       "      <td>99</td>\n",
       "      <td>2.41</td>\n",
       "    </tr>\n",
       "    <tr>\n",
       "      <th>566</th>\n",
       "      <td>Fußball-Bundesliga</td>\n",
       "      <td>2017-2018</td>\n",
       "      <td>1</td>\n",
       "      <td>Bayern Munich</td>\n",
       "      <td>34</td>\n",
       "      <td>27</td>\n",
       "      <td>3</td>\n",
       "      <td>4</td>\n",
       "      <td>92</td>\n",
       "      <td>28</td>\n",
       "      <td>64</td>\n",
       "      <td>84</td>\n",
       "      <td>28</td>\n",
       "      <td>72</td>\n",
       "      <td>6</td>\n",
       "      <td>8</td>\n",
       "      <td>93</td>\n",
       "      <td>69</td>\n",
       "      <td>16</td>\n",
       "      <td>222</td>\n",
       "      <td>374</td>\n",
       "      <td>102</td>\n",
       "      <td>2.47</td>\n",
       "    </tr>\n",
       "    <tr>\n",
       "      <th>584</th>\n",
       "      <td>Fußball-Bundesliga</td>\n",
       "      <td>2018-2019</td>\n",
       "      <td>1</td>\n",
       "      <td>Bayern Munich</td>\n",
       "      <td>34</td>\n",
       "      <td>24</td>\n",
       "      <td>6</td>\n",
       "      <td>4</td>\n",
       "      <td>88</td>\n",
       "      <td>32</td>\n",
       "      <td>56</td>\n",
       "      <td>78</td>\n",
       "      <td>24</td>\n",
       "      <td>62</td>\n",
       "      <td>3</td>\n",
       "      <td>4</td>\n",
       "      <td>71</td>\n",
       "      <td>45</td>\n",
       "      <td>12</td>\n",
       "      <td>246</td>\n",
       "      <td>374</td>\n",
       "      <td>102</td>\n",
       "      <td>2.29</td>\n",
       "    </tr>\n",
       "    <tr>\n",
       "      <th>602</th>\n",
       "      <td>Fußball-Bundesliga</td>\n",
       "      <td>2019-2020</td>\n",
       "      <td>1</td>\n",
       "      <td>Bayern Munich</td>\n",
       "      <td>34</td>\n",
       "      <td>26</td>\n",
       "      <td>4</td>\n",
       "      <td>4</td>\n",
       "      <td>100</td>\n",
       "      <td>32</td>\n",
       "      <td>68</td>\n",
       "      <td>82</td>\n",
       "      <td>29</td>\n",
       "      <td>75</td>\n",
       "      <td>6</td>\n",
       "      <td>6</td>\n",
       "      <td>114</td>\n",
       "      <td>86</td>\n",
       "      <td>15</td>\n",
       "      <td>241</td>\n",
       "      <td>374</td>\n",
       "      <td>104</td>\n",
       "      <td>2.41</td>\n",
       "    </tr>\n",
       "    <tr>\n",
       "      <th>620</th>\n",
       "      <td>Fußball-Bundesliga</td>\n",
       "      <td>2020-2021</td>\n",
       "      <td>1</td>\n",
       "      <td>Bayern Munich</td>\n",
       "      <td>34</td>\n",
       "      <td>24</td>\n",
       "      <td>6</td>\n",
       "      <td>4</td>\n",
       "      <td>99</td>\n",
       "      <td>44</td>\n",
       "      <td>55</td>\n",
       "      <td>78</td>\n",
       "      <td>29</td>\n",
       "      <td>75</td>\n",
       "      <td>9</td>\n",
       "      <td>10</td>\n",
       "      <td>130</td>\n",
       "      <td>85</td>\n",
       "      <td>9</td>\n",
       "      <td>220</td>\n",
       "      <td>374</td>\n",
       "      <td>137</td>\n",
       "      <td>2.29</td>\n",
       "    </tr>\n",
       "  </tbody>\n",
       "</table>\n",
       "</div>"
      ],
      "text/plain": [
       "            competition     season  rank          squad  games  wins  draws  \\\n",
       "440  Fußball-Bundesliga  2010-2011     1       Dortmund     34    23      6   \n",
       "458  Fußball-Bundesliga  2011-2012     1       Dortmund     34    25      6   \n",
       "476  Fußball-Bundesliga  2012-2013     1  Bayern Munich     34    29      4   \n",
       "494  Fußball-Bundesliga  2013-2014     1  Bayern Munich     34    29      3   \n",
       "512  Fußball-Bundesliga  2014-2015     1  Bayern Munich     34    25      4   \n",
       "530  Fußball-Bundesliga  2015-2016     1  Bayern Munich     34    28      4   \n",
       "548  Fußball-Bundesliga  2016-2017     1  Bayern Munich     34    25      7   \n",
       "566  Fußball-Bundesliga  2017-2018     1  Bayern Munich     34    27      3   \n",
       "584  Fußball-Bundesliga  2018-2019     1  Bayern Munich     34    24      6   \n",
       "602  Fußball-Bundesliga  2019-2020     1  Bayern Munich     34    26      4   \n",
       "620  Fußball-Bundesliga  2020-2021     1  Bayern Munich     34    24      6   \n",
       "\n",
       "     losses  goals_for  goals_against  goal_diff  points  players_used  \\\n",
       "440       5         67             22         45      75            23   \n",
       "458       3         80             25         55      81            23   \n",
       "476       1         98             18         80      91            24   \n",
       "494       2         94             23         71      90            25   \n",
       "512       5         80             18         62      79            28   \n",
       "530       2         80             17         63      88            25   \n",
       "548       2         89             22         67      82            22   \n",
       "566       4         92             28         64      84            28   \n",
       "584       4         88             32         56      78            24   \n",
       "602       4        100             32         68      82            29   \n",
       "620       4         99             44         55      78            29   \n",
       "\n",
       "     assists  pens_made  pens_att  shots_on_target_against  saves  \\\n",
       "440       42          0         3                      125    103   \n",
       "458       58          1         1                      108     83   \n",
       "476       79          4         5                       98     80   \n",
       "494       74          5         7                      116     93   \n",
       "512       49          6         6                       99     81   \n",
       "530       54          8         9                       84     67   \n",
       "548       64          5         5                      100     78   \n",
       "566       72          6         8                       93     69   \n",
       "584       62          3         4                       71     45   \n",
       "602       75          6         6                      114     86   \n",
       "620       75          9        10                      130     85   \n",
       "\n",
       "     clean_sheets  shots_on_target  games_starts  games_subs  points_per_match  \n",
       "440            14              229           374         100              2.21  \n",
       "458            15              214           374         100              2.38  \n",
       "476            21              264           374          94              2.68  \n",
       "494            17              290           374          97              2.65  \n",
       "512            22              251           374          98              2.32  \n",
       "530            20              261           374          95              2.59  \n",
       "548            17              230           374          99              2.41  \n",
       "566            16              222           374         102              2.47  \n",
       "584            12              246           374         102              2.29  \n",
       "602            15              241           374         104              2.41  \n",
       "620             9              220           374         137              2.29  "
      ]
     },
     "execution_count": 20,
     "metadata": {},
     "output_type": "execute_result"
    }
   ],
   "source": [
    "FB = df[(df['competition'] == 'Fußball-Bundesliga') & (df['rank'] == 1)]\n",
    "FB"
   ]
  },
  {
   "cell_type": "code",
   "execution_count": 21,
   "metadata": {},
   "outputs": [
    {
     "data": {
      "text/plain": [
       "Text(0.5, 1.0, 'the most crowned')"
      ]
     },
     "execution_count": 21,
     "metadata": {},
     "output_type": "execute_result"
    },
    {
     "data": {
      "image/png": "[encoded data removed]",
      "text/plain": [
       "<Figure size 576x288 with 1 Axes>"
      ]
     },
     "metadata": {
      "needs_background": "light"
     },
     "output_type": "display_data"
    }
   ],
   "source": [
    "plt.figure(figsize=(8,4))\n",
    "basic_color = sns.color_palette()[0]\n",
    "fb = sns.countplot( x = 'squad' , data = FB , color = basic_color)\n",
    "plt.xticks(rotation = 15)\n",
    "fb.set_title('the most crowned')"
   ]
  },
  {
   "cell_type": "markdown",
   "metadata": {},
   "source": [
    "- Fußball-Bundesliga was Bayern Munich the team that won the league the most nine times"
   ]
  },
  {
   "cell_type": "markdown",
   "metadata": {},
   "source": [
    "- the factor is significant because it shows the team which control on it own league ( man_city , Barcelona , juve , Bayern , Paris)\n"
   ]
  },
  {
   "cell_type": "markdown",
   "metadata": {},
   "source": [
    "# the best attack over the seasons ?"
   ]
  },
  {
   "cell_type": "markdown",
   "metadata": {},
   "source": [
    "- For Goal_For Column"
   ]
  },
  {
   "cell_type": "code",
   "execution_count": 22,
   "metadata": {},
   "outputs": [
    {
     "data": {
      "text/plain": [
       "479"
      ]
     },
     "execution_count": 22,
     "metadata": {},
     "output_type": "execute_result"
    }
   ],
   "source": [
    "PL[PL['squad'] == 'Manchester City'].sum()[8]"
   ]
  },
  {
   "cell_type": "code",
   "execution_count": 23,
   "metadata": {},
   "outputs": [
    {
     "data": {
      "text/plain": [
       "621"
      ]
     },
     "execution_count": 23,
     "metadata": {},
     "output_type": "execute_result"
    }
   ],
   "source": [
    "La[La['squad'] == 'Barcelona'].sum()[8]"
   ]
  },
  {
   "cell_type": "code",
   "execution_count": 24,
   "metadata": {},
   "outputs": [
    {
     "data": {
      "text/plain": [
       "675"
      ]
     },
     "execution_count": 24,
     "metadata": {},
     "output_type": "execute_result"
    }
   ],
   "source": [
    "A[A['squad'] == 'Juventus'].sum()[8]"
   ]
  },
  {
   "cell_type": "code",
   "execution_count": 25,
   "metadata": {},
   "outputs": [
    {
     "data": {
      "text/plain": [
       "626"
      ]
     },
     "execution_count": 25,
     "metadata": {},
     "output_type": "execute_result"
    }
   ],
   "source": [
    "L1[L1['squad'] == 'Paris S-G'].sum()[8]"
   ]
  },
  {
   "cell_type": "code",
   "execution_count": 26,
   "metadata": {},
   "outputs": [
    {
     "data": {
      "text/plain": [
       "820"
      ]
     },
     "execution_count": 26,
     "metadata": {},
     "output_type": "execute_result"
    }
   ],
   "source": [
    "FB[FB['squad'] == 'Bayern Munich'].sum()[8]"
   ]
  },
  {
   "cell_type": "markdown",
   "metadata": {},
   "source": [
    "- here we can notice bayern munich have the biggest no.goal_for"
   ]
  },
  {
   "cell_type": "markdown",
   "metadata": {},
   "source": [
    "- For Shots On target"
   ]
  },
  {
   "cell_type": "code",
   "execution_count": 27,
   "metadata": {},
   "outputs": [
    {
     "data": {
      "text/plain": [
       "1218"
      ]
     },
     "execution_count": 27,
     "metadata": {},
     "output_type": "execute_result"
    }
   ],
   "source": [
    "PL[PL['squad'] == 'Manchester City'].sum()[19]"
   ]
  },
  {
   "cell_type": "code",
   "execution_count": 28,
   "metadata": {},
   "outputs": [
    {
     "data": {
      "text/plain": [
       "1628"
      ]
     },
     "execution_count": 28,
     "metadata": {},
     "output_type": "execute_result"
    }
   ],
   "source": [
    "La[La['squad'] == 'Barcelona'].sum()[19]"
   ]
  },
  {
   "cell_type": "code",
   "execution_count": 29,
   "metadata": {},
   "outputs": [
    {
     "data": {
      "text/plain": [
       "2033"
      ]
     },
     "execution_count": 29,
     "metadata": {},
     "output_type": "execute_result"
    }
   ],
   "source": [
    "A[A['squad'] == 'Juventus'].sum()[19]"
   ]
  },
  {
   "cell_type": "code",
   "execution_count": 30,
   "metadata": {},
   "outputs": [
    {
     "data": {
      "text/plain": [
       "1582"
      ]
     },
     "execution_count": 30,
     "metadata": {},
     "output_type": "execute_result"
    }
   ],
   "source": [
    "L1[L1['squad'] == 'Paris S-G'].sum()[19]"
   ]
  },
  {
   "cell_type": "code",
   "execution_count": 31,
   "metadata": {},
   "outputs": [
    {
     "data": {
      "text/plain": [
       "2225"
      ]
     },
     "execution_count": 31,
     "metadata": {},
     "output_type": "execute_result"
    }
   ],
   "source": [
    "FB[FB['squad'] == 'Bayern Munich'].sum()[19]"
   ]
  },
  {
   "cell_type": "markdown",
   "metadata": {},
   "source": [
    "- here also Bayern munich superior to rest of the teams"
   ]
  },
  {
   "cell_type": "markdown",
   "metadata": {},
   "source": [
    "- for Pen_attempts"
   ]
  },
  {
   "cell_type": "code",
   "execution_count": 32,
   "metadata": {},
   "outputs": [
    {
     "data": {
      "text/plain": [
       "36"
      ]
     },
     "execution_count": 32,
     "metadata": {},
     "output_type": "execute_result"
    }
   ],
   "source": [
    "PL[PL['squad'] == 'Manchester City'].sum()[15]"
   ]
  },
  {
   "cell_type": "code",
   "execution_count": 33,
   "metadata": {},
   "outputs": [
    {
     "data": {
      "text/plain": [
       "49"
      ]
     },
     "execution_count": 33,
     "metadata": {},
     "output_type": "execute_result"
    }
   ],
   "source": [
    "La[La['squad'] == 'Barcelona'].sum()[15]"
   ]
  },
  {
   "cell_type": "code",
   "execution_count": 34,
   "metadata": {},
   "outputs": [
    {
     "data": {
      "text/plain": [
       "70"
      ]
     },
     "execution_count": 34,
     "metadata": {},
     "output_type": "execute_result"
    }
   ],
   "source": [
    "A[A['squad'] == 'Juventus'].sum()[15]"
   ]
  },
  {
   "cell_type": "code",
   "execution_count": 35,
   "metadata": {},
   "outputs": [
    {
     "data": {
      "text/plain": [
       "65"
      ]
     },
     "execution_count": 35,
     "metadata": {},
     "output_type": "execute_result"
    }
   ],
   "source": [
    "L1[L1['squad'] == 'Paris S-G'].sum()[15]"
   ]
  },
  {
   "cell_type": "code",
   "execution_count": 36,
   "metadata": {},
   "outputs": [
    {
     "data": {
      "text/plain": [
       "60"
      ]
     },
     "execution_count": 36,
     "metadata": {},
     "output_type": "execute_result"
    }
   ],
   "source": [
    "FB[FB['squad'] == 'Bayern Munich'].sum()[15]"
   ]
  },
  {
   "cell_type": "markdown",
   "metadata": {},
   "source": [
    "- here Juve is the biggest"
   ]
  },
  {
   "cell_type": "markdown",
   "metadata": {},
   "source": [
    "- for assists"
   ]
  },
  {
   "cell_type": "code",
   "execution_count": 37,
   "metadata": {},
   "outputs": [
    {
     "data": {
      "text/plain": [
       "347"
      ]
     },
     "execution_count": 37,
     "metadata": {},
     "output_type": "execute_result"
    }
   ],
   "source": [
    "PL[PL['squad'] == 'Manchester City'].sum()[13]"
   ]
  },
  {
   "cell_type": "code",
   "execution_count": 38,
   "metadata": {},
   "outputs": [
    {
     "data": {
      "text/plain": [
       "457"
      ]
     },
     "execution_count": 38,
     "metadata": {},
     "output_type": "execute_result"
    }
   ],
   "source": [
    "La[La['squad'] == 'Barcelona'].sum()[13]"
   ]
  },
  {
   "cell_type": "code",
   "execution_count": 39,
   "metadata": {},
   "outputs": [
    {
     "data": {
      "text/plain": [
       "425"
      ]
     },
     "execution_count": 39,
     "metadata": {},
     "output_type": "execute_result"
    }
   ],
   "source": [
    "A[A['squad'] == 'Juventus'].sum()[13]"
   ]
  },
  {
   "cell_type": "code",
   "execution_count": 40,
   "metadata": {},
   "outputs": [
    {
     "data": {
      "text/plain": [
       "413"
      ]
     },
     "execution_count": 40,
     "metadata": {},
     "output_type": "execute_result"
    }
   ],
   "source": [
    "L1[L1['squad'] == 'Paris S-G'].sum()[13]"
   ]
  },
  {
   "cell_type": "code",
   "execution_count": 41,
   "metadata": {},
   "outputs": [
    {
     "data": {
      "text/plain": [
       "604"
      ]
     },
     "execution_count": 41,
     "metadata": {},
     "output_type": "execute_result"
    }
   ],
   "source": [
    "FB[FB['squad'] == 'Bayern Munich'].sum()[13]"
   ]
  },
  {
   "cell_type": "markdown",
   "metadata": {},
   "source": [
    "- here Bayern Munich is also superior to rest of the Teams"
   ]
  },
  {
   "cell_type": "markdown",
   "metadata": {},
   "source": [
    "- this factor was important and significant because it shows the best attack with all factors that affect on attack of the team and bayern munich was the best attack from top teams in the European Leagues"
   ]
  },
  {
   "cell_type": "markdown",
   "metadata": {},
   "source": [
    "# the best defense over the seasons?"
   ]
  },
  {
   "cell_type": "markdown",
   "metadata": {},
   "source": [
    "- for Goal_Against"
   ]
  },
  {
   "cell_type": "code",
   "execution_count": 42,
   "metadata": {},
   "outputs": [
    {
     "data": {
      "text/plain": [
       "148"
      ]
     },
     "execution_count": 42,
     "metadata": {},
     "output_type": "execute_result"
    }
   ],
   "source": [
    "PL[PL['squad'] == 'Manchester City'].sum()[9]"
   ]
  },
  {
   "cell_type": "code",
   "execution_count": 43,
   "metadata": {},
   "outputs": [
    {
     "data": {
      "text/plain": [
       "176"
      ]
     },
     "execution_count": 43,
     "metadata": {},
     "output_type": "execute_result"
    }
   ],
   "source": [
    "La[La['squad'] == 'Barcelona'].sum()[9]"
   ]
  },
  {
   "cell_type": "code",
   "execution_count": 44,
   "metadata": {},
   "outputs": [
    {
     "data": {
      "text/plain": [
       "235"
      ]
     },
     "execution_count": 44,
     "metadata": {},
     "output_type": "execute_result"
    }
   ],
   "source": [
    "A[A['squad'] == 'Juventus'].sum()[9]"
   ]
  },
  {
   "cell_type": "code",
   "execution_count": 45,
   "metadata": {},
   "outputs": [
    {
     "data": {
      "text/plain": [
       "189"
      ]
     },
     "execution_count": 45,
     "metadata": {},
     "output_type": "execute_result"
    }
   ],
   "source": [
    "L1[L1['squad'] == 'Paris S-G'].sum()[9]"
   ]
  },
  {
   "cell_type": "code",
   "execution_count": 46,
   "metadata": {},
   "outputs": [
    {
     "data": {
      "text/plain": [
       "234"
      ]
     },
     "execution_count": 46,
     "metadata": {},
     "output_type": "execute_result"
    }
   ],
   "source": [
    "FB[FB['squad'] == 'Bayern Munich'].sum()[9]"
   ]
  },
  {
   "cell_type": "markdown",
   "metadata": {},
   "source": [
    "- here we notice man_city with the less goal_against "
   ]
  },
  {
   "cell_type": "markdown",
   "metadata": {},
   "source": [
    "- for Losses"
   ]
  },
  {
   "cell_type": "code",
   "execution_count": 47,
   "metadata": {},
   "outputs": [
    {
     "data": {
      "text/plain": [
       "23"
      ]
     },
     "execution_count": 47,
     "metadata": {},
     "output_type": "execute_result"
    }
   ],
   "source": [
    "PL[PL['squad'] == 'Manchester City'].sum()[7]"
   ]
  },
  {
   "cell_type": "code",
   "execution_count": 48,
   "metadata": {},
   "outputs": [
    {
     "data": {
      "text/plain": [
       "17"
      ]
     },
     "execution_count": 48,
     "metadata": {},
     "output_type": "execute_result"
    }
   ],
   "source": [
    "La[La['squad'] == 'Barcelona'].sum()[7]"
   ]
  },
  {
   "cell_type": "code",
   "execution_count": 49,
   "metadata": {},
   "outputs": [
    {
     "data": {
      "text/plain": [
       "34"
      ]
     },
     "execution_count": 49,
     "metadata": {},
     "output_type": "execute_result"
    }
   ],
   "source": [
    "A[A['squad'] == 'Juventus'].sum()[7]"
   ]
  },
  {
   "cell_type": "code",
   "execution_count": 50,
   "metadata": {},
   "outputs": [
    {
     "data": {
      "text/plain": [
       "24"
      ]
     },
     "execution_count": 50,
     "metadata": {},
     "output_type": "execute_result"
    }
   ],
   "source": [
    "L1[L1['squad'] == 'Paris S-G'].sum()[7]"
   ]
  },
  {
   "cell_type": "code",
   "execution_count": 51,
   "metadata": {},
   "outputs": [
    {
     "data": {
      "text/plain": [
       "28"
      ]
     },
     "execution_count": 51,
     "metadata": {},
     "output_type": "execute_result"
    }
   ],
   "source": [
    "FB[FB['squad'] == 'Bayern Munich'].sum()[7]"
   ]
  },
  {
   "cell_type": "markdown",
   "metadata": {},
   "source": [
    "- here we notice Barcelona is less losses from the rest  "
   ]
  },
  {
   "cell_type": "markdown",
   "metadata": {},
   "source": [
    "- for Pen_made"
   ]
  },
  {
   "cell_type": "code",
   "execution_count": 52,
   "metadata": {},
   "outputs": [
    {
     "data": {
      "text/plain": [
       "27"
      ]
     },
     "execution_count": 52,
     "metadata": {},
     "output_type": "execute_result"
    }
   ],
   "source": [
    "PL[PL['squad'] == 'Manchester City'].sum()[14]"
   ]
  },
  {
   "cell_type": "code",
   "execution_count": 53,
   "metadata": {},
   "outputs": [
    {
     "data": {
      "text/plain": [
       "37"
      ]
     },
     "execution_count": 53,
     "metadata": {},
     "output_type": "execute_result"
    }
   ],
   "source": [
    "La[La['squad'] == 'Barcelona'].sum()[14]"
   ]
  },
  {
   "cell_type": "code",
   "execution_count": 54,
   "metadata": {},
   "outputs": [
    {
     "data": {
      "text/plain": [
       "56"
      ]
     },
     "execution_count": 54,
     "metadata": {},
     "output_type": "execute_result"
    }
   ],
   "source": [
    "A[A['squad'] == 'Juventus'].sum()[14]"
   ]
  },
  {
   "cell_type": "code",
   "execution_count": 55,
   "metadata": {},
   "outputs": [
    {
     "data": {
      "text/plain": [
       "55"
      ]
     },
     "execution_count": 55,
     "metadata": {},
     "output_type": "execute_result"
    }
   ],
   "source": [
    "L1[L1['squad'] == 'Paris S-G'].sum()[14]"
   ]
  },
  {
   "cell_type": "code",
   "execution_count": 56,
   "metadata": {},
   "outputs": [
    {
     "data": {
      "text/plain": [
       "52"
      ]
     },
     "execution_count": 56,
     "metadata": {},
     "output_type": "execute_result"
    }
   ],
   "source": [
    "FB[FB['squad'] == 'Bayern Munich'].sum()[14]"
   ]
  },
  {
   "cell_type": "markdown",
   "metadata": {},
   "source": [
    "- here for second time man_city is the less pen_made from the rest "
   ]
  },
  {
   "cell_type": "markdown",
   "metadata": {},
   "source": [
    "- for Shot target Against"
   ]
  },
  {
   "cell_type": "code",
   "execution_count": 57,
   "metadata": {},
   "outputs": [
    {
     "data": {
      "text/plain": [
       "506"
      ]
     },
     "execution_count": 57,
     "metadata": {},
     "output_type": "execute_result"
    }
   ],
   "source": [
    "PL[PL['squad'] == 'Manchester City'].sum()[16]"
   ]
  },
  {
   "cell_type": "code",
   "execution_count": 58,
   "metadata": {},
   "outputs": [
    {
     "data": {
      "text/plain": [
       "713"
      ]
     },
     "execution_count": 58,
     "metadata": {},
     "output_type": "execute_result"
    }
   ],
   "source": [
    "La[La['squad'] == 'Barcelona'].sum()[16]"
   ]
  },
  {
   "cell_type": "code",
   "execution_count": 59,
   "metadata": {},
   "outputs": [
    {
     "data": {
      "text/plain": [
       "997"
      ]
     },
     "execution_count": 59,
     "metadata": {},
     "output_type": "execute_result"
    }
   ],
   "source": [
    "A[A['squad'] == 'Juventus'].sum()[16]"
   ]
  },
  {
   "cell_type": "code",
   "execution_count": 60,
   "metadata": {},
   "outputs": [
    {
     "data": {
      "text/plain": [
       "787"
      ]
     },
     "execution_count": 60,
     "metadata": {},
     "output_type": "execute_result"
    }
   ],
   "source": [
    "L1[L1['squad'] == 'Paris S-G'].sum()[16]"
   ]
  },
  {
   "cell_type": "code",
   "execution_count": 61,
   "metadata": {},
   "outputs": [
    {
     "data": {
      "text/plain": [
       "905"
      ]
     },
     "execution_count": 61,
     "metadata": {},
     "output_type": "execute_result"
    }
   ],
   "source": [
    "FB[FB['squad'] == 'Bayern Munich'].sum()[16]"
   ]
  },
  {
   "cell_type": "markdown",
   "metadata": {},
   "source": [
    "- here also man_city superior to the rest"
   ]
  },
  {
   "cell_type": "markdown",
   "metadata": {},
   "source": [
    "- for Clean Sheets "
   ]
  },
  {
   "cell_type": "code",
   "execution_count": 62,
   "metadata": {},
   "outputs": [
    {
     "data": {
      "text/plain": [
       "90"
      ]
     },
     "execution_count": 62,
     "metadata": {},
     "output_type": "execute_result"
    }
   ],
   "source": [
    "PL[PL['squad'] == 'Manchester City'].sum()[18]"
   ]
  },
  {
   "cell_type": "code",
   "execution_count": 63,
   "metadata": {},
   "outputs": [
    {
     "data": {
      "text/plain": [
       "106"
      ]
     },
     "execution_count": 63,
     "metadata": {},
     "output_type": "execute_result"
    }
   ],
   "source": [
    "La[La['squad'] == 'Barcelona'].sum()[18]"
   ]
  },
  {
   "cell_type": "code",
   "execution_count": 64,
   "metadata": {},
   "outputs": [
    {
     "data": {
      "text/plain": [
       "171"
      ]
     },
     "execution_count": 64,
     "metadata": {},
     "output_type": "execute_result"
    }
   ],
   "source": [
    "A[A['squad'] == 'Juventus'].sum()[18]"
   ]
  },
  {
   "cell_type": "code",
   "execution_count": 65,
   "metadata": {},
   "outputs": [
    {
     "data": {
      "text/plain": [
       "127"
      ]
     },
     "execution_count": 65,
     "metadata": {},
     "output_type": "execute_result"
    }
   ],
   "source": [
    "L1[L1['squad'] == 'Paris S-G'].sum()[18]"
   ]
  },
  {
   "cell_type": "code",
   "execution_count": 66,
   "metadata": {},
   "outputs": [
    {
     "data": {
      "text/plain": [
       "149"
      ]
     },
     "execution_count": 66,
     "metadata": {},
     "output_type": "execute_result"
    }
   ],
   "source": [
    "FB[FB['squad'] == 'Bayern Munich'].sum()[18]"
   ]
  },
  {
   "cell_type": "markdown",
   "metadata": {},
   "source": [
    "- here Juve superior to the rest "
   ]
  },
  {
   "cell_type": "markdown",
   "metadata": {},
   "source": [
    "- this factor shows us man_city have the best defense and that significant but the best attack factor is more important as goals that give the team the victory "
   ]
  },
  {
   "cell_type": "markdown",
   "metadata": {},
   "source": [
    "# which team that achieve the widest goal_diff?"
   ]
  },
  {
   "cell_type": "code",
   "execution_count": 67,
   "metadata": {},
   "outputs": [
    {
     "data": {
      "text/plain": [
       "331"
      ]
     },
     "execution_count": 67,
     "metadata": {},
     "output_type": "execute_result"
    }
   ],
   "source": [
    "PL[PL['squad'] == 'Manchester City'].sum()[10]"
   ]
  },
  {
   "cell_type": "code",
   "execution_count": 68,
   "metadata": {},
   "outputs": [
    {
     "data": {
      "text/plain": [
       "445"
      ]
     },
     "execution_count": 68,
     "metadata": {},
     "output_type": "execute_result"
    }
   ],
   "source": [
    "La[La['squad'] == 'Barcelona'].sum()[10]"
   ]
  },
  {
   "cell_type": "code",
   "execution_count": 69,
   "metadata": {},
   "outputs": [
    {
     "data": {
      "text/plain": [
       "440"
      ]
     },
     "execution_count": 69,
     "metadata": {},
     "output_type": "execute_result"
    }
   ],
   "source": [
    "A[A['squad'] == 'Juventus'].sum()[10]"
   ]
  },
  {
   "cell_type": "code",
   "execution_count": 70,
   "metadata": {},
   "outputs": [
    {
     "data": {
      "text/plain": [
       "437"
      ]
     },
     "execution_count": 70,
     "metadata": {},
     "output_type": "execute_result"
    }
   ],
   "source": [
    "L1[L1['squad'] == 'Paris S-G'].sum()[10]"
   ]
  },
  {
   "cell_type": "code",
   "execution_count": 71,
   "metadata": {},
   "outputs": [
    {
     "data": {
      "text/plain": [
       "586"
      ]
     },
     "execution_count": 71,
     "metadata": {},
     "output_type": "execute_result"
    }
   ],
   "source": [
    "FB[FB['squad'] == 'Bayern Munich'].sum()[10]"
   ]
  },
  {
   "cell_type": "markdown",
   "metadata": {},
   "source": [
    "- the Widest Goal Difference is Bayren Munich which mean the subtract between goal_for and goal_against is wide that means they have excellent attack and excellent defense in the same time, so this factor is significant"
   ]
  },
  {
   "cell_type": "markdown",
   "metadata": {},
   "source": [
    "# which teams that have best goalkeepers?"
   ]
  },
  {
   "cell_type": "code",
   "execution_count": 72,
   "metadata": {},
   "outputs": [
    {
     "data": {
      "text/plain": [
       "371"
      ]
     },
     "execution_count": 72,
     "metadata": {},
     "output_type": "execute_result"
    }
   ],
   "source": [
    "PL[PL['squad'] == 'Manchester City'].sum()[17]"
   ]
  },
  {
   "cell_type": "code",
   "execution_count": 73,
   "metadata": {},
   "outputs": [
    {
     "data": {
      "text/plain": [
       "542"
      ]
     },
     "execution_count": 73,
     "metadata": {},
     "output_type": "execute_result"
    }
   ],
   "source": [
    "La[La['squad'] == 'Barcelona'].sum()[17]"
   ]
  },
  {
   "cell_type": "code",
   "execution_count": 74,
   "metadata": {},
   "outputs": [
    {
     "data": {
      "text/plain": [
       "776"
      ]
     },
     "execution_count": 74,
     "metadata": {},
     "output_type": "execute_result"
    }
   ],
   "source": [
    "A[A['squad'] == 'Juventus'].sum()[17]"
   ]
  },
  {
   "cell_type": "code",
   "execution_count": 75,
   "metadata": {},
   "outputs": [
    {
     "data": {
      "text/plain": [
       "610"
      ]
     },
     "execution_count": 75,
     "metadata": {},
     "output_type": "execute_result"
    }
   ],
   "source": [
    "L1[L1['squad'] == 'Paris S-G'].sum()[17]"
   ]
  },
  {
   "cell_type": "code",
   "execution_count": 76,
   "metadata": {},
   "outputs": [
    {
     "data": {
      "text/plain": [
       "684"
      ]
     },
     "execution_count": 76,
     "metadata": {},
     "output_type": "execute_result"
    }
   ],
   "source": [
    "FB[FB['squad'] == 'Bayern Munich'].sum()[17]"
   ]
  },
  {
   "cell_type": "markdown",
   "metadata": {},
   "source": [
    "- from clean sheets before and now from save we can say juve had the best goal-keeper over the seasons and that significant factor for good defense "
   ]
  },
  {
   "cell_type": "markdown",
   "metadata": {},
   "source": [
    "# teams that collect the most points over the seasons?"
   ]
  },
  {
   "cell_type": "code",
   "execution_count": 78,
   "metadata": {},
   "outputs": [
    {
     "data": {
      "text/plain": [
       "459"
      ]
     },
     "execution_count": 78,
     "metadata": {},
     "output_type": "execute_result"
    }
   ],
   "source": [
    "PL[PL['squad'] == 'Manchester City'].sum()[11]"
   ]
  },
  {
   "cell_type": "code",
   "execution_count": 79,
   "metadata": {},
   "outputs": [
    {
     "data": {
      "text/plain": [
       "561"
      ]
     },
     "execution_count": 79,
     "metadata": {},
     "output_type": "execute_result"
    }
   ],
   "source": [
    "La[La['squad'] == 'Barcelona'].sum()[11]"
   ]
  },
  {
   "cell_type": "code",
   "execution_count": 80,
   "metadata": {},
   "outputs": [
    {
     "data": {
      "text/plain": [
       "810"
      ]
     },
     "execution_count": 80,
     "metadata": {},
     "output_type": "execute_result"
    }
   ],
   "source": [
    "A[A['squad'] == 'Juventus'].sum()[11]"
   ]
  },
  {
   "cell_type": "code",
   "execution_count": 81,
   "metadata": {},
   "outputs": [
    {
     "data": {
      "text/plain": [
       "603"
      ]
     },
     "execution_count": 81,
     "metadata": {},
     "output_type": "execute_result"
    }
   ],
   "source": [
    "L1[L1['squad'] == 'Paris S-G'].sum()[11]"
   ]
  },
  {
   "cell_type": "code",
   "execution_count": 82,
   "metadata": {},
   "outputs": [
    {
     "data": {
      "text/plain": [
       "684"
      ]
     },
     "execution_count": 82,
     "metadata": {},
     "output_type": "execute_result"
    }
   ],
   "source": [
    "FB[FB['squad'] == 'Bayern Munich'].sum()[17]"
   ]
  },
  {
   "cell_type": "markdown",
   "metadata": {},
   "source": [
    "- we can here notice Juve had the most points over the season and that reflects how much power they have in attack and defense "
   ]
  },
  {
   "cell_type": "markdown",
   "metadata": {},
   "source": [
    "# what about the subs ?"
   ]
  },
  {
   "cell_type": "code",
   "execution_count": 95,
   "metadata": {},
   "outputs": [
    {
     "data": {
      "text/plain": [
       "509"
      ]
     },
     "execution_count": 95,
     "metadata": {},
     "output_type": "execute_result"
    }
   ],
   "source": [
    "PL[PL['squad'] == 'Manchester City'].sum()[21]"
   ]
  },
  {
   "cell_type": "code",
   "execution_count": 96,
   "metadata": {},
   "outputs": [
    {
     "data": {
      "text/plain": [
       "643"
      ]
     },
     "execution_count": 96,
     "metadata": {},
     "output_type": "execute_result"
    }
   ],
   "source": [
    "La[La['squad'] == 'Barcelona'].sum()[21]"
   ]
  },
  {
   "cell_type": "code",
   "execution_count": 99,
   "metadata": {},
   "outputs": [
    {
     "data": {
      "text/plain": [
       "1009"
      ]
     },
     "execution_count": 99,
     "metadata": {},
     "output_type": "execute_result"
    }
   ],
   "source": [
    "A[A['squad'] == 'Juventus'].sum()[21]"
   ]
  },
  {
   "cell_type": "code",
   "execution_count": 97,
   "metadata": {},
   "outputs": [
    {
     "data": {
      "text/plain": [
       "715"
      ]
     },
     "execution_count": 97,
     "metadata": {},
     "output_type": "execute_result"
    }
   ],
   "source": [
    "L1[L1['squad'] == 'Paris S-G'].sum()[21]"
   ]
  },
  {
   "cell_type": "code",
   "execution_count": 119,
   "metadata": {},
   "outputs": [
    {
     "data": {
      "text/plain": [
       "928"
      ]
     },
     "execution_count": 119,
     "metadata": {},
     "output_type": "execute_result"
    }
   ],
   "source": [
    "FB[FB['squad'] == 'Bayern Munich'].sum()[21]"
   ]
  },
  {
   "cell_type": "markdown",
   "metadata": {},
   "source": [
    "- juve is the most subs that means they don't have Line-up constant and depend on rotation between the players that give flexibility for the team otherwise maybe the average age of the team is high so the coach don't want to make old player play many minutes, Man_city the smallest no.subs that means less rotations , constant Line-up otherwise the average age in low so the players can play alot of minutes."
   ]
  },
  {
   "cell_type": "markdown",
   "metadata": {},
   "source": [
    "# teams which have the best rate for point per match ?"
   ]
  },
  {
   "cell_type": "code",
   "execution_count": 125,
   "metadata": {},
   "outputs": [
    {
     "data": {
      "text/plain": [
       "12.069999999999999"
      ]
     },
     "execution_count": 125,
     "metadata": {},
     "output_type": "execute_result"
    }
   ],
   "source": [
    "PL1=PL[PL['squad'] == 'Manchester City']\n",
    "PL[PL['squad'] == 'Manchester City'].sum()[22]"
   ]
  },
  {
   "cell_type": "code",
   "execution_count": 110,
   "metadata": {},
   "outputs": [
    {
     "data": {
      "text/plain": [
       "Text(0.5, 1.0, 'the points per match over the seasons In PL')"
      ]
     },
     "execution_count": 110,
     "metadata": {},
     "output_type": "execute_result"
    },
    {
     "data": {
      "image/png": "[encoded data removed]",
      "text/plain": [
       "<Figure size 576x288 with 1 Axes>"
      ]
     },
     "metadata": {
      "needs_background": "light"
     },
     "output_type": "display_data"
    }
   ],
   "source": [
    "plt.figure(figsize=(8,4))\n",
    "basic_color = sns.color_palette()[0]\n",
    "x=sns.barplot(x='season',y='points_per_match',data=PL1, color= basic_color)\n",
    "x.set_title('the points per match over the seasons In PL')"
   ]
  },
  {
   "cell_type": "code",
   "execution_count": 123,
   "metadata": {},
   "outputs": [
    {
     "data": {
      "text/plain": [
       "14.760000000000002"
      ]
     },
     "execution_count": 123,
     "metadata": {},
     "output_type": "execute_result"
    }
   ],
   "source": [
    "La1 = La[La['squad'] == 'Barcelona']\n",
    "La[La['squad'] == 'Barcelona'].sum()[22]"
   ]
  },
  {
   "cell_type": "code",
   "execution_count": 109,
   "metadata": {},
   "outputs": [
    {
     "data": {
      "text/plain": [
       "Text(0.5, 1.0, 'the points per match over the seasons in La Liga')"
      ]
     },
     "execution_count": 109,
     "metadata": {},
     "output_type": "execute_result"
    },
    {
     "data": {
      "image/png": "[encoded data removed]",
      "text/plain": [
       "<Figure size 576x288 with 1 Axes>"
      ]
     },
     "metadata": {
      "needs_background": "light"
     },
     "output_type": "display_data"
    }
   ],
   "source": [
    "plt.figure(figsize=(8,4))\n",
    "basic_color = sns.color_palette()[0]\n",
    "x=sns.barplot(x='season',y='points_per_match',data=La1, color= basic_color)\n",
    "x.set_title('the points per match over the seasons in La Liga')"
   ]
  },
  {
   "cell_type": "code",
   "execution_count": 122,
   "metadata": {},
   "outputs": [
    {
     "data": {
      "text/plain": [
       "21.3"
      ]
     },
     "execution_count": 122,
     "metadata": {},
     "output_type": "execute_result"
    }
   ],
   "source": [
    "A1 = A[A['squad'] == 'Juventus']\n",
    "A[A['squad'] == 'Juventus'].sum()[22]"
   ]
  },
  {
   "cell_type": "code",
   "execution_count": 112,
   "metadata": {},
   "outputs": [
    {
     "data": {
      "text/plain": [
       "Text(0.5, 1.0, 'the points per match over the seasons in Seria A')"
      ]
     },
     "execution_count": 112,
     "metadata": {},
     "output_type": "execute_result"
    },
    {
     "data": {
      "image/png": "[encoded data removed]",
      "text/plain": [
       "<Figure size 576x288 with 1 Axes>"
      ]
     },
     "metadata": {
      "needs_background": "light"
     },
     "output_type": "display_data"
    }
   ],
   "source": [
    "plt.figure(figsize=(8,4))\n",
    "basic_color = sns.color_palette()[0]\n",
    "x=sns.barplot(x='season',y='points_per_match',data=A1, color= basic_color)\n",
    "plt.xticks(rotation = 15)\n",
    "x.set_title('the points per match over the seasons in Seria A')"
   ]
  },
  {
   "cell_type": "code",
   "execution_count": 121,
   "metadata": {},
   "outputs": [
    {
     "data": {
      "text/plain": [
       "16.59"
      ]
     },
     "execution_count": 121,
     "metadata": {},
     "output_type": "execute_result"
    }
   ],
   "source": [
    "L = L1[L1['squad'] == 'Paris S-G']\n",
    "L1[L1['squad'] == 'Paris S-G'].sum()[22]"
   ]
  },
  {
   "cell_type": "code",
   "execution_count": 114,
   "metadata": {},
   "outputs": [
    {
     "data": {
      "text/plain": [
       "Text(0.5, 1.0, 'the points per match over the seasons in Ligue 1')"
      ]
     },
     "execution_count": 114,
     "metadata": {},
     "output_type": "execute_result"
    },
    {
     "data": {
      "image/png": "[encoded data removed]",
      "text/plain": [
       "<Figure size 576x288 with 1 Axes>"
      ]
     },
     "metadata": {
      "needs_background": "light"
     },
     "output_type": "display_data"
    }
   ],
   "source": [
    "plt.figure(figsize=(8,4))\n",
    "basic_color = sns.color_palette()[0]\n",
    "x=sns.barplot(x='season',y='points_per_match',data= L , color= basic_color)\n",
    "plt.xticks(rotation = 15)\n",
    "x.set_title('the points per match over the seasons in Ligue 1')"
   ]
  },
  {
   "cell_type": "code",
   "execution_count": 120,
   "metadata": {},
   "outputs": [
    {
     "data": {
      "text/plain": [
       "22.11"
      ]
     },
     "execution_count": 120,
     "metadata": {},
     "output_type": "execute_result"
    }
   ],
   "source": [
    "FB1 = FB[FB['squad'] == 'Bayern Munich']\n",
    "FB[FB['squad'] == 'Bayern Munich'].sum()[22]"
   ]
  },
  {
   "cell_type": "code",
   "execution_count": 116,
   "metadata": {},
   "outputs": [
    {
     "data": {
      "text/plain": [
       "Text(0.5, 1.0, 'the points per match over the seasons in Bundesliga')"
      ]
     },
     "execution_count": 116,
     "metadata": {},
     "output_type": "execute_result"
    },
    {
     "data": {
      "image/png": "[encoded data removed]",
      "text/plain": [
       "<Figure size 576x288 with 1 Axes>"
      ]
     },
     "metadata": {
      "needs_background": "light"
     },
     "output_type": "display_data"
    }
   ],
   "source": [
    "plt.figure(figsize=(8,4))\n",
    "basic_color = sns.color_palette()[0]\n",
    "x=sns.barplot(x='season',y='points_per_match',data= FB1 , color= basic_color)\n",
    "plt.xticks(rotation = 15)\n",
    "x.set_title('the points per match over the seasons in Bundesliga')"
   ]
  },
  {
   "cell_type": "markdown",
   "metadata": {},
   "source": [
    "- Man_city and Bayern Munich we notice Man_city is the lessest point per match but that may be reflects on how much power the league which they play in not weakness of the team, bayern munich the biggest point per match but also may be that reflects on the weakness of thier league and no competition there otherwise this shows us how much does bayern have organizational establishment and level of stability.\n",
    "- so this factor can't decide weakness or strongness in those teams "
   ]
  },
  {
   "cell_type": "markdown",
   "metadata": {},
   "source": [
    "# Conclusion"
   ]
  },
  {
   "cell_type": "markdown",
   "metadata": {},
   "source": [
    "- Finally we get the significant factors to decide the 5 big europeans teams : most win the league , best attack , best defense , widest Goal Difference , most points over seasons , having best Goalkeeper\n",
    "- teams that won their league for the most ( City , Barcelona , Juve , PSG , Bayern) \n",
    "- best attack due to goal_for , pen_att , shot_on_target , assists\n",
    "- best defense due to most clean sheets , goal_against , pens_made ,losses , shots_on_target_against\n",
    "- best goalkeeper due to most saves and most clean sheets\n",
    "- so this will be the order of the 5 big european teams \n",
    "- 1- Bayern Munich , 2- Man_city , 3- Barcelona , 4- Juve , 5- PSG"
   ]
  },
  {
   "cell_type": "markdown",
   "metadata": {},
   "source": [
    "# Limitions :"
   ]
  },
  {
   "cell_type": "markdown",
   "metadata": {},
   "source": [
    "- we can't benefit from games_subs and point_per_match and find correlation to them "
   ]
  }
 ],
 "metadata": {
  "kernelspec": {
   "display_name": "Python 3",
   "language": "python",
   "name": "python3"
  },
  "language_info": {
   "codemirror_mode": {
    "name": "ipython",
    "version": 3
   },
   "file_extension": ".py",
   "mimetype": "text/x-python",
   "name": "python",
   "nbconvert_exporter": "python",
   "pygments_lexer": "ipython3",
   "version": "3.8.5"
  }
 },
 "nbformat": 4,
 "nbformat_minor": 4
}
